{
 "cells": [
  {
   "cell_type": "code",
   "execution_count": 3,
   "id": "04411e79-e532-491d-b413-053b3d42732f",
   "metadata": {},
   "outputs": [],
   "source": [
    "from retirement_engine.simulator import run_simulation, load_market_data"
   ]
  },
  {
   "cell_type": "code",
   "execution_count": 8,
   "id": "695632ea-ffd3-4486-a41e-9692000d3174",
   "metadata": {},
   "outputs": [],
   "source": [
    "import os\n",
    "\n",
    "def load_market_data(etf_source):\n",
    "    if not os.path.exists(etf_source):\n",
    "        raise FileNotFoundError(f\"Market data file not found: {etf_source}\")\n",
    "\n",
    "    df = pd.read_csv(etf_source)\n",
    "    if \"daily_return\" not in df.columns:\n",
    "        raise ValueError(\"CSV must contain a 'daily_return' column.\")\n",
    "\n",
    "    return df[\"daily_return\"].astype(float).tolist()"
   ]
  },
  {
   "cell_type": "code",
   "execution_count": 9,
   "id": "080cefab-7c2a-4704-aeb6-ed77369ab9b6",
   "metadata": {},
   "outputs": [],
   "source": [
    "withdrawal_rate = 0.05\n",
    "sp500_weight = 0.60\n",
    "etf_source = \"C:/Users/JohnFriedrich/OneDrive/Scripts/Python/RetirementEngine/data/market.csv\"\n",
    "strategies = [\"Fixed\", \"Guardrails\", \"Pause After Loss\", \"Dynamic\"]"
   ]
  },
  {
   "cell_type": "code",
   "execution_count": 10,
   "id": "5fc029cf-97c7-46de-b882-ce13f281d9cd",
   "metadata": {},
   "outputs": [
    {
     "ename": "FileNotFoundError",
     "evalue": "[Errno 2] No such file or directory: 'C:/Users/JohnFriedrich/OneDrive/Scripts/Python/RetirementEngine/data/market.csv'",
     "output_type": "error",
     "traceback": [
      "\u001b[0;31m---------------------------------------------------------------------------\u001b[0m",
      "\u001b[0;31mFileNotFoundError\u001b[0m                         Traceback (most recent call last)",
      "Cell \u001b[0;32mIn[10], line 4\u001b[0m\n\u001b[1;32m      1\u001b[0m results \u001b[38;5;241m=\u001b[39m {}\n\u001b[1;32m      3\u001b[0m \u001b[38;5;28;01mfor\u001b[39;00m strategy \u001b[38;5;129;01min\u001b[39;00m strategies:\n\u001b[0;32m----> 4\u001b[0m     balances, withdrawals \u001b[38;5;241m=\u001b[39m \u001b[43mrun_simulation\u001b[49m\u001b[43m(\u001b[49m\n\u001b[1;32m      5\u001b[0m \u001b[43m        \u001b[49m\u001b[43mwithdrawal_rate\u001b[49m\u001b[38;5;241;43m=\u001b[39;49m\u001b[43mwithdrawal_rate\u001b[49m\u001b[43m,\u001b[49m\n\u001b[1;32m      6\u001b[0m \u001b[43m        \u001b[49m\u001b[43msp500_weight\u001b[49m\u001b[38;5;241;43m=\u001b[39;49m\u001b[43msp500_weight\u001b[49m\u001b[43m,\u001b[49m\n\u001b[1;32m      7\u001b[0m \u001b[43m        \u001b[49m\u001b[43metf_source\u001b[49m\u001b[38;5;241;43m=\u001b[39;49m\u001b[43metf_source\u001b[49m\u001b[43m,\u001b[49m\n\u001b[1;32m      8\u001b[0m \u001b[43m        \u001b[49m\u001b[43mstrategy\u001b[49m\u001b[38;5;241;43m=\u001b[39;49m\u001b[43mstrategy\u001b[49m\n\u001b[1;32m      9\u001b[0m \u001b[43m    \u001b[49m\u001b[43m)\u001b[49m\n\u001b[1;32m     10\u001b[0m     results[strategy] \u001b[38;5;241m=\u001b[39m {\n\u001b[1;32m     11\u001b[0m         \u001b[38;5;124m\"\u001b[39m\u001b[38;5;124mbalances\u001b[39m\u001b[38;5;124m\"\u001b[39m: balances,\n\u001b[1;32m     12\u001b[0m         \u001b[38;5;124m\"\u001b[39m\u001b[38;5;124mwithdrawals\u001b[39m\u001b[38;5;124m\"\u001b[39m: withdrawals\n\u001b[1;32m     13\u001b[0m     }\n",
      "File \u001b[0;32m/mnt/c/Users/JohnFriedrich/OneDrive/Scripts/Python/RetirementEngine/retirement_engine/simulator.py:20\u001b[0m, in \u001b[0;36mrun_simulation\u001b[0;34m(withdrawal_rate, etf_source, strategy, initial_balance, sp500_weight)\u001b[0m\n\u001b[1;32m     17\u001b[0m \u001b[38;5;28;01mdef\u001b[39;00m\u001b[38;5;250m \u001b[39m\u001b[38;5;21mrun_simulation\u001b[39m(\n\u001b[1;32m     18\u001b[0m     withdrawal_rate, etf_source, strategy, initial_balance\u001b[38;5;241m=\u001b[39m\u001b[38;5;241m1_000_000\u001b[39m, sp500_weight\u001b[38;5;241m=\u001b[39m\u001b[38;5;28;01mNone\u001b[39;00m\n\u001b[1;32m     19\u001b[0m ):\n\u001b[0;32m---> 20\u001b[0m     returns \u001b[38;5;241m=\u001b[39m \u001b[43mload_market_data\u001b[49m\u001b[43m(\u001b[49m\u001b[43metf_source\u001b[49m\u001b[43m)\u001b[49m  \u001b[38;5;66;03m# flat list of daily returns\u001b[39;00m\n\u001b[1;32m     21\u001b[0m     days_per_year \u001b[38;5;241m=\u001b[39m \u001b[38;5;241m365\u001b[39m\n\u001b[1;32m     22\u001b[0m     balance \u001b[38;5;241m=\u001b[39m initial_balance\n",
      "File \u001b[0;32m/mnt/c/Users/JohnFriedrich/OneDrive/Scripts/Python/RetirementEngine/retirement_engine/simulator.py:84\u001b[0m, in \u001b[0;36mload_market_data\u001b[0;34m(etf_source)\u001b[0m\n\u001b[1;32m     79\u001b[0m \u001b[38;5;28;01mdef\u001b[39;00m\u001b[38;5;250m \u001b[39m\u001b[38;5;21mload_market_data\u001b[39m(etf_source):\n\u001b[1;32m     80\u001b[0m \u001b[38;5;250m    \u001b[39m\u001b[38;5;124;03m\"\"\"\u001b[39;00m\n\u001b[1;32m     81\u001b[0m \u001b[38;5;124;03m    Loads daily return data from a CSV file and returns a flat list of floats.\u001b[39;00m\n\u001b[1;32m     82\u001b[0m \u001b[38;5;124;03m    Assumes the CSV has a 'daily_return' column with percentage or decimal returns.\u001b[39;00m\n\u001b[1;32m     83\u001b[0m \u001b[38;5;124;03m    \"\"\"\u001b[39;00m\n\u001b[0;32m---> 84\u001b[0m     df \u001b[38;5;241m=\u001b[39m \u001b[43mpd\u001b[49m\u001b[38;5;241;43m.\u001b[39;49m\u001b[43mread_csv\u001b[49m\u001b[43m(\u001b[49m\u001b[43metf_source\u001b[49m\u001b[43m)\u001b[49m\n\u001b[1;32m     86\u001b[0m     \u001b[38;5;66;03m# Ensure 'daily_return' column exists\u001b[39;00m\n\u001b[1;32m     87\u001b[0m     \u001b[38;5;28;01mif\u001b[39;00m \u001b[38;5;124m\"\u001b[39m\u001b[38;5;124mdaily_return\u001b[39m\u001b[38;5;124m\"\u001b[39m \u001b[38;5;129;01mnot\u001b[39;00m \u001b[38;5;129;01min\u001b[39;00m df\u001b[38;5;241m.\u001b[39mcolumns:\n",
      "File \u001b[0;32m~/RetirementEngine_venv/lib/python3.10/site-packages/pandas/io/parsers/readers.py:1026\u001b[0m, in \u001b[0;36mread_csv\u001b[0;34m(filepath_or_buffer, sep, delimiter, header, names, index_col, usecols, dtype, engine, converters, true_values, false_values, skipinitialspace, skiprows, skipfooter, nrows, na_values, keep_default_na, na_filter, verbose, skip_blank_lines, parse_dates, infer_datetime_format, keep_date_col, date_parser, date_format, dayfirst, cache_dates, iterator, chunksize, compression, thousands, decimal, lineterminator, quotechar, quoting, doublequote, escapechar, comment, encoding, encoding_errors, dialect, on_bad_lines, delim_whitespace, low_memory, memory_map, float_precision, storage_options, dtype_backend)\u001b[0m\n\u001b[1;32m   1013\u001b[0m kwds_defaults \u001b[38;5;241m=\u001b[39m _refine_defaults_read(\n\u001b[1;32m   1014\u001b[0m     dialect,\n\u001b[1;32m   1015\u001b[0m     delimiter,\n\u001b[0;32m   (...)\u001b[0m\n\u001b[1;32m   1022\u001b[0m     dtype_backend\u001b[38;5;241m=\u001b[39mdtype_backend,\n\u001b[1;32m   1023\u001b[0m )\n\u001b[1;32m   1024\u001b[0m kwds\u001b[38;5;241m.\u001b[39mupdate(kwds_defaults)\n\u001b[0;32m-> 1026\u001b[0m \u001b[38;5;28;01mreturn\u001b[39;00m \u001b[43m_read\u001b[49m\u001b[43m(\u001b[49m\u001b[43mfilepath_or_buffer\u001b[49m\u001b[43m,\u001b[49m\u001b[43m \u001b[49m\u001b[43mkwds\u001b[49m\u001b[43m)\u001b[49m\n",
      "File \u001b[0;32m~/RetirementEngine_venv/lib/python3.10/site-packages/pandas/io/parsers/readers.py:620\u001b[0m, in \u001b[0;36m_read\u001b[0;34m(filepath_or_buffer, kwds)\u001b[0m\n\u001b[1;32m    617\u001b[0m _validate_names(kwds\u001b[38;5;241m.\u001b[39mget(\u001b[38;5;124m\"\u001b[39m\u001b[38;5;124mnames\u001b[39m\u001b[38;5;124m\"\u001b[39m, \u001b[38;5;28;01mNone\u001b[39;00m))\n\u001b[1;32m    619\u001b[0m \u001b[38;5;66;03m# Create the parser.\u001b[39;00m\n\u001b[0;32m--> 620\u001b[0m parser \u001b[38;5;241m=\u001b[39m \u001b[43mTextFileReader\u001b[49m\u001b[43m(\u001b[49m\u001b[43mfilepath_or_buffer\u001b[49m\u001b[43m,\u001b[49m\u001b[43m \u001b[49m\u001b[38;5;241;43m*\u001b[39;49m\u001b[38;5;241;43m*\u001b[39;49m\u001b[43mkwds\u001b[49m\u001b[43m)\u001b[49m\n\u001b[1;32m    622\u001b[0m \u001b[38;5;28;01mif\u001b[39;00m chunksize \u001b[38;5;129;01mor\u001b[39;00m iterator:\n\u001b[1;32m    623\u001b[0m     \u001b[38;5;28;01mreturn\u001b[39;00m parser\n",
      "File \u001b[0;32m~/RetirementEngine_venv/lib/python3.10/site-packages/pandas/io/parsers/readers.py:1620\u001b[0m, in \u001b[0;36mTextFileReader.__init__\u001b[0;34m(self, f, engine, **kwds)\u001b[0m\n\u001b[1;32m   1617\u001b[0m     \u001b[38;5;28mself\u001b[39m\u001b[38;5;241m.\u001b[39moptions[\u001b[38;5;124m\"\u001b[39m\u001b[38;5;124mhas_index_names\u001b[39m\u001b[38;5;124m\"\u001b[39m] \u001b[38;5;241m=\u001b[39m kwds[\u001b[38;5;124m\"\u001b[39m\u001b[38;5;124mhas_index_names\u001b[39m\u001b[38;5;124m\"\u001b[39m]\n\u001b[1;32m   1619\u001b[0m \u001b[38;5;28mself\u001b[39m\u001b[38;5;241m.\u001b[39mhandles: IOHandles \u001b[38;5;241m|\u001b[39m \u001b[38;5;28;01mNone\u001b[39;00m \u001b[38;5;241m=\u001b[39m \u001b[38;5;28;01mNone\u001b[39;00m\n\u001b[0;32m-> 1620\u001b[0m \u001b[38;5;28mself\u001b[39m\u001b[38;5;241m.\u001b[39m_engine \u001b[38;5;241m=\u001b[39m \u001b[38;5;28;43mself\u001b[39;49m\u001b[38;5;241;43m.\u001b[39;49m\u001b[43m_make_engine\u001b[49m\u001b[43m(\u001b[49m\u001b[43mf\u001b[49m\u001b[43m,\u001b[49m\u001b[43m \u001b[49m\u001b[38;5;28;43mself\u001b[39;49m\u001b[38;5;241;43m.\u001b[39;49m\u001b[43mengine\u001b[49m\u001b[43m)\u001b[49m\n",
      "File \u001b[0;32m~/RetirementEngine_venv/lib/python3.10/site-packages/pandas/io/parsers/readers.py:1880\u001b[0m, in \u001b[0;36mTextFileReader._make_engine\u001b[0;34m(self, f, engine)\u001b[0m\n\u001b[1;32m   1878\u001b[0m     \u001b[38;5;28;01mif\u001b[39;00m \u001b[38;5;124m\"\u001b[39m\u001b[38;5;124mb\u001b[39m\u001b[38;5;124m\"\u001b[39m \u001b[38;5;129;01mnot\u001b[39;00m \u001b[38;5;129;01min\u001b[39;00m mode:\n\u001b[1;32m   1879\u001b[0m         mode \u001b[38;5;241m+\u001b[39m\u001b[38;5;241m=\u001b[39m \u001b[38;5;124m\"\u001b[39m\u001b[38;5;124mb\u001b[39m\u001b[38;5;124m\"\u001b[39m\n\u001b[0;32m-> 1880\u001b[0m \u001b[38;5;28mself\u001b[39m\u001b[38;5;241m.\u001b[39mhandles \u001b[38;5;241m=\u001b[39m \u001b[43mget_handle\u001b[49m\u001b[43m(\u001b[49m\n\u001b[1;32m   1881\u001b[0m \u001b[43m    \u001b[49m\u001b[43mf\u001b[49m\u001b[43m,\u001b[49m\n\u001b[1;32m   1882\u001b[0m \u001b[43m    \u001b[49m\u001b[43mmode\u001b[49m\u001b[43m,\u001b[49m\n\u001b[1;32m   1883\u001b[0m \u001b[43m    \u001b[49m\u001b[43mencoding\u001b[49m\u001b[38;5;241;43m=\u001b[39;49m\u001b[38;5;28;43mself\u001b[39;49m\u001b[38;5;241;43m.\u001b[39;49m\u001b[43moptions\u001b[49m\u001b[38;5;241;43m.\u001b[39;49m\u001b[43mget\u001b[49m\u001b[43m(\u001b[49m\u001b[38;5;124;43m\"\u001b[39;49m\u001b[38;5;124;43mencoding\u001b[39;49m\u001b[38;5;124;43m\"\u001b[39;49m\u001b[43m,\u001b[49m\u001b[43m \u001b[49m\u001b[38;5;28;43;01mNone\u001b[39;49;00m\u001b[43m)\u001b[49m\u001b[43m,\u001b[49m\n\u001b[1;32m   1884\u001b[0m \u001b[43m    \u001b[49m\u001b[43mcompression\u001b[49m\u001b[38;5;241;43m=\u001b[39;49m\u001b[38;5;28;43mself\u001b[39;49m\u001b[38;5;241;43m.\u001b[39;49m\u001b[43moptions\u001b[49m\u001b[38;5;241;43m.\u001b[39;49m\u001b[43mget\u001b[49m\u001b[43m(\u001b[49m\u001b[38;5;124;43m\"\u001b[39;49m\u001b[38;5;124;43mcompression\u001b[39;49m\u001b[38;5;124;43m\"\u001b[39;49m\u001b[43m,\u001b[49m\u001b[43m \u001b[49m\u001b[38;5;28;43;01mNone\u001b[39;49;00m\u001b[43m)\u001b[49m\u001b[43m,\u001b[49m\n\u001b[1;32m   1885\u001b[0m \u001b[43m    \u001b[49m\u001b[43mmemory_map\u001b[49m\u001b[38;5;241;43m=\u001b[39;49m\u001b[38;5;28;43mself\u001b[39;49m\u001b[38;5;241;43m.\u001b[39;49m\u001b[43moptions\u001b[49m\u001b[38;5;241;43m.\u001b[39;49m\u001b[43mget\u001b[49m\u001b[43m(\u001b[49m\u001b[38;5;124;43m\"\u001b[39;49m\u001b[38;5;124;43mmemory_map\u001b[39;49m\u001b[38;5;124;43m\"\u001b[39;49m\u001b[43m,\u001b[49m\u001b[43m \u001b[49m\u001b[38;5;28;43;01mFalse\u001b[39;49;00m\u001b[43m)\u001b[49m\u001b[43m,\u001b[49m\n\u001b[1;32m   1886\u001b[0m \u001b[43m    \u001b[49m\u001b[43mis_text\u001b[49m\u001b[38;5;241;43m=\u001b[39;49m\u001b[43mis_text\u001b[49m\u001b[43m,\u001b[49m\n\u001b[1;32m   1887\u001b[0m \u001b[43m    \u001b[49m\u001b[43merrors\u001b[49m\u001b[38;5;241;43m=\u001b[39;49m\u001b[38;5;28;43mself\u001b[39;49m\u001b[38;5;241;43m.\u001b[39;49m\u001b[43moptions\u001b[49m\u001b[38;5;241;43m.\u001b[39;49m\u001b[43mget\u001b[49m\u001b[43m(\u001b[49m\u001b[38;5;124;43m\"\u001b[39;49m\u001b[38;5;124;43mencoding_errors\u001b[39;49m\u001b[38;5;124;43m\"\u001b[39;49m\u001b[43m,\u001b[49m\u001b[43m \u001b[49m\u001b[38;5;124;43m\"\u001b[39;49m\u001b[38;5;124;43mstrict\u001b[39;49m\u001b[38;5;124;43m\"\u001b[39;49m\u001b[43m)\u001b[49m\u001b[43m,\u001b[49m\n\u001b[1;32m   1888\u001b[0m \u001b[43m    \u001b[49m\u001b[43mstorage_options\u001b[49m\u001b[38;5;241;43m=\u001b[39;49m\u001b[38;5;28;43mself\u001b[39;49m\u001b[38;5;241;43m.\u001b[39;49m\u001b[43moptions\u001b[49m\u001b[38;5;241;43m.\u001b[39;49m\u001b[43mget\u001b[49m\u001b[43m(\u001b[49m\u001b[38;5;124;43m\"\u001b[39;49m\u001b[38;5;124;43mstorage_options\u001b[39;49m\u001b[38;5;124;43m\"\u001b[39;49m\u001b[43m,\u001b[49m\u001b[43m \u001b[49m\u001b[38;5;28;43;01mNone\u001b[39;49;00m\u001b[43m)\u001b[49m\u001b[43m,\u001b[49m\n\u001b[1;32m   1889\u001b[0m \u001b[43m\u001b[49m\u001b[43m)\u001b[49m\n\u001b[1;32m   1890\u001b[0m \u001b[38;5;28;01massert\u001b[39;00m \u001b[38;5;28mself\u001b[39m\u001b[38;5;241m.\u001b[39mhandles \u001b[38;5;129;01mis\u001b[39;00m \u001b[38;5;129;01mnot\u001b[39;00m \u001b[38;5;28;01mNone\u001b[39;00m\n\u001b[1;32m   1891\u001b[0m f \u001b[38;5;241m=\u001b[39m \u001b[38;5;28mself\u001b[39m\u001b[38;5;241m.\u001b[39mhandles\u001b[38;5;241m.\u001b[39mhandle\n",
      "File \u001b[0;32m~/RetirementEngine_venv/lib/python3.10/site-packages/pandas/io/common.py:873\u001b[0m, in \u001b[0;36mget_handle\u001b[0;34m(path_or_buf, mode, encoding, compression, memory_map, is_text, errors, storage_options)\u001b[0m\n\u001b[1;32m    868\u001b[0m \u001b[38;5;28;01melif\u001b[39;00m \u001b[38;5;28misinstance\u001b[39m(handle, \u001b[38;5;28mstr\u001b[39m):\n\u001b[1;32m    869\u001b[0m     \u001b[38;5;66;03m# Check whether the filename is to be opened in binary mode.\u001b[39;00m\n\u001b[1;32m    870\u001b[0m     \u001b[38;5;66;03m# Binary mode does not support 'encoding' and 'newline'.\u001b[39;00m\n\u001b[1;32m    871\u001b[0m     \u001b[38;5;28;01mif\u001b[39;00m ioargs\u001b[38;5;241m.\u001b[39mencoding \u001b[38;5;129;01mand\u001b[39;00m \u001b[38;5;124m\"\u001b[39m\u001b[38;5;124mb\u001b[39m\u001b[38;5;124m\"\u001b[39m \u001b[38;5;129;01mnot\u001b[39;00m \u001b[38;5;129;01min\u001b[39;00m ioargs\u001b[38;5;241m.\u001b[39mmode:\n\u001b[1;32m    872\u001b[0m         \u001b[38;5;66;03m# Encoding\u001b[39;00m\n\u001b[0;32m--> 873\u001b[0m         handle \u001b[38;5;241m=\u001b[39m \u001b[38;5;28;43mopen\u001b[39;49m\u001b[43m(\u001b[49m\n\u001b[1;32m    874\u001b[0m \u001b[43m            \u001b[49m\u001b[43mhandle\u001b[49m\u001b[43m,\u001b[49m\n\u001b[1;32m    875\u001b[0m \u001b[43m            \u001b[49m\u001b[43mioargs\u001b[49m\u001b[38;5;241;43m.\u001b[39;49m\u001b[43mmode\u001b[49m\u001b[43m,\u001b[49m\n\u001b[1;32m    876\u001b[0m \u001b[43m            \u001b[49m\u001b[43mencoding\u001b[49m\u001b[38;5;241;43m=\u001b[39;49m\u001b[43mioargs\u001b[49m\u001b[38;5;241;43m.\u001b[39;49m\u001b[43mencoding\u001b[49m\u001b[43m,\u001b[49m\n\u001b[1;32m    877\u001b[0m \u001b[43m            \u001b[49m\u001b[43merrors\u001b[49m\u001b[38;5;241;43m=\u001b[39;49m\u001b[43merrors\u001b[49m\u001b[43m,\u001b[49m\n\u001b[1;32m    878\u001b[0m \u001b[43m            \u001b[49m\u001b[43mnewline\u001b[49m\u001b[38;5;241;43m=\u001b[39;49m\u001b[38;5;124;43m\"\u001b[39;49m\u001b[38;5;124;43m\"\u001b[39;49m\u001b[43m,\u001b[49m\n\u001b[1;32m    879\u001b[0m \u001b[43m        \u001b[49m\u001b[43m)\u001b[49m\n\u001b[1;32m    880\u001b[0m     \u001b[38;5;28;01melse\u001b[39;00m:\n\u001b[1;32m    881\u001b[0m         \u001b[38;5;66;03m# Binary mode\u001b[39;00m\n\u001b[1;32m    882\u001b[0m         handle \u001b[38;5;241m=\u001b[39m \u001b[38;5;28mopen\u001b[39m(handle, ioargs\u001b[38;5;241m.\u001b[39mmode)\n",
      "\u001b[0;31mFileNotFoundError\u001b[0m: [Errno 2] No such file or directory: 'C:/Users/JohnFriedrich/OneDrive/Scripts/Python/RetirementEngine/data/market.csv'"
     ]
    }
   ],
   "source": [
    "results = {}\n",
    "\n",
    "for strategy in strategies:\n",
    "    balances, withdrawals = run_simulation(\n",
    "        withdrawal_rate=withdrawal_rate,\n",
    "        sp500_weight=sp500_weight,\n",
    "        etf_source=etf_source,\n",
    "        strategy=strategy\n",
    "    )\n",
    "    results[strategy] = {\n",
    "        \"balances\": balances,\n",
    "        \"withdrawals\": withdrawals\n",
    "    }"
   ]
  },
  {
   "cell_type": "code",
   "execution_count": 5,
   "id": "317aead7-991d-4b10-8083-dffa5f3bcd7f",
   "metadata": {},
   "outputs": [],
   "source": [
    "def pad_to_length(stream, target_len):\n",
    "    if len(stream) < target_len:\n",
    "        stream += [0.0] * (target_len - len(stream))\n",
    "    return stream"
   ]
  },
  {
   "cell_type": "code",
   "execution_count": 6,
   "id": "175d648b-080b-487f-928d-047e0dadd9c1",
   "metadata": {},
   "outputs": [
    {
     "ename": "KeyError",
     "evalue": "'Fixed'",
     "output_type": "error",
     "traceback": [
      "\u001b[0;31m---------------------------------------------------------------------------\u001b[0m",
      "\u001b[0;31mKeyError\u001b[0m                                  Traceback (most recent call last)",
      "Cell \u001b[0;32mIn[6], line 4\u001b[0m\n\u001b[1;32m      1\u001b[0m target_len \u001b[38;5;241m=\u001b[39m \u001b[38;5;241m5840\u001b[39m  \u001b[38;5;66;03m# confirmed index length\u001b[39;00m\n\u001b[1;32m      3\u001b[0m \u001b[38;5;28;01mfor\u001b[39;00m strategy \u001b[38;5;129;01min\u001b[39;00m strategies:\n\u001b[0;32m----> 4\u001b[0m     results[strategy][\u001b[38;5;124m\"\u001b[39m\u001b[38;5;124mwithdrawals\u001b[39m\u001b[38;5;124m\"\u001b[39m] \u001b[38;5;241m=\u001b[39m pad_to_length(\u001b[43mresults\u001b[49m\u001b[43m[\u001b[49m\u001b[43mstrategy\u001b[49m\u001b[43m]\u001b[49m[\u001b[38;5;124m\"\u001b[39m\u001b[38;5;124mwithdrawals\u001b[39m\u001b[38;5;124m\"\u001b[39m], target_len)\n",
      "\u001b[0;31mKeyError\u001b[0m: 'Fixed'"
     ]
    }
   ],
   "source": [
    "target_len = 5840  # confirmed index length\n",
    "\n",
    "for strategy in strategies:\n",
    "    results[strategy][\"withdrawals\"] = pad_to_length(results[strategy][\"withdrawals\"], target_len)"
   ]
  },
  {
   "cell_type": "code",
   "execution_count": 7,
   "id": "55f5d192-e09e-4902-b1dd-8e74f19059ed",
   "metadata": {},
   "outputs": [
    {
     "ename": "KeyError",
     "evalue": "'Fixed'",
     "output_type": "error",
     "traceback": [
      "\u001b[0;31m---------------------------------------------------------------------------\u001b[0m",
      "\u001b[0;31mKeyError\u001b[0m                                  Traceback (most recent call last)",
      "Cell \u001b[0;32mIn[7], line 3\u001b[0m\n\u001b[1;32m      1\u001b[0m \u001b[38;5;28;01mimport\u001b[39;00m\u001b[38;5;250m \u001b[39m\u001b[38;5;21;01mpandas\u001b[39;00m\u001b[38;5;250m \u001b[39m\u001b[38;5;28;01mas\u001b[39;00m\u001b[38;5;250m \u001b[39m\u001b[38;5;21;01mpd\u001b[39;00m\n\u001b[0;32m----> 3\u001b[0m years \u001b[38;5;241m=\u001b[39m \u001b[38;5;28mlist\u001b[39m(\u001b[38;5;28mrange\u001b[39m(\u001b[38;5;241m1\u001b[39m, \u001b[38;5;28mlen\u001b[39m(\u001b[43mresults\u001b[49m\u001b[43m[\u001b[49m\u001b[43mstrategies\u001b[49m\u001b[43m[\u001b[49m\u001b[38;5;241;43m0\u001b[39;49m\u001b[43m]\u001b[49m\u001b[43m]\u001b[49m[\u001b[38;5;124m\"\u001b[39m\u001b[38;5;124mbalances\u001b[39m\u001b[38;5;124m\"\u001b[39m]) \u001b[38;5;241m+\u001b[39m \u001b[38;5;241m1\u001b[39m))\n\u001b[1;32m      4\u001b[0m df \u001b[38;5;241m=\u001b[39m pd\u001b[38;5;241m.\u001b[39mDataFrame(index\u001b[38;5;241m=\u001b[39myears)\n\u001b[1;32m      6\u001b[0m \u001b[38;5;28;01mfor\u001b[39;00m strategy \u001b[38;5;129;01min\u001b[39;00m strategies:\n",
      "\u001b[0;31mKeyError\u001b[0m: 'Fixed'"
     ]
    }
   ],
   "source": [
    "import pandas as pd\n",
    "\n",
    "years = list(range(1, len(results[strategies[0]][\"balances\"]) + 1))\n",
    "df = pd.DataFrame(index=years)\n",
    "\n",
    "for strategy in strategies:\n",
    "    df[f\"{strategy} Balance\"] = results[strategy][\"balances\"]\n",
    "    df[f\"{strategy} Withdrawal\"] = results[strategy][\"withdrawals\"]\n",
    "\n",
    "df.index.name = \"Year\"\n",
    "df.style.format(\"${:,.2f}\")"
   ]
  },
  {
   "cell_type": "code",
   "execution_count": 8,
   "id": "5fe1d9b5-7d26-43e1-b565-531900e14ab4",
   "metadata": {},
   "outputs": [
    {
     "ename": "KeyError",
     "evalue": "'Fixed'",
     "output_type": "error",
     "traceback": [
      "\u001b[0;31m---------------------------------------------------------------------------\u001b[0m",
      "\u001b[0;31mKeyError\u001b[0m                                  Traceback (most recent call last)",
      "Cell \u001b[0;32mIn[8], line 1\u001b[0m\n\u001b[0;32m----> 1\u001b[0m years \u001b[38;5;241m=\u001b[39m \u001b[38;5;28mlist\u001b[39m(\u001b[38;5;28mrange\u001b[39m(\u001b[38;5;241m1\u001b[39m, \u001b[38;5;28mlen\u001b[39m(\u001b[43mresults\u001b[49m\u001b[43m[\u001b[49m\u001b[43mstrategies\u001b[49m\u001b[43m[\u001b[49m\u001b[38;5;241;43m0\u001b[39;49m\u001b[43m]\u001b[49m\u001b[43m]\u001b[49m[\u001b[38;5;124m\"\u001b[39m\u001b[38;5;124mbalances\u001b[39m\u001b[38;5;124m\"\u001b[39m]) \u001b[38;5;241m+\u001b[39m \u001b[38;5;241m1\u001b[39m))\n\u001b[1;32m      2\u001b[0m \u001b[38;5;28mprint\u001b[39m(\u001b[38;5;124m\"\u001b[39m\u001b[38;5;124mIndex length:\u001b[39m\u001b[38;5;124m\"\u001b[39m, \u001b[38;5;28mlen\u001b[39m(years))  \u001b[38;5;66;03m# Should be 5840\u001b[39;00m\n",
      "\u001b[0;31mKeyError\u001b[0m: 'Fixed'"
     ]
    }
   ],
   "source": [
    "years = list(range(1, len(results[strategies[0]][\"balances\"]) + 1))\n",
    "print(\"Index length:\", len(years))  # Should be 5840"
   ]
  },
  {
   "cell_type": "code",
   "execution_count": 9,
   "id": "4ff83ab4-fade-4002-ba61-3a6f178dbcd6",
   "metadata": {},
   "outputs": [
    {
     "ename": "KeyError",
     "evalue": "'Fixed'",
     "output_type": "error",
     "traceback": [
      "\u001b[0;31m---------------------------------------------------------------------------\u001b[0m",
      "\u001b[0;31mKeyError\u001b[0m                                  Traceback (most recent call last)",
      "Cell \u001b[0;32mIn[9], line 2\u001b[0m\n\u001b[1;32m      1\u001b[0m \u001b[38;5;28;01mfor\u001b[39;00m strategy \u001b[38;5;129;01min\u001b[39;00m strategies:\n\u001b[0;32m----> 2\u001b[0m     b_len \u001b[38;5;241m=\u001b[39m \u001b[38;5;28mlen\u001b[39m(\u001b[43mresults\u001b[49m\u001b[43m[\u001b[49m\u001b[43mstrategy\u001b[49m\u001b[43m]\u001b[49m[\u001b[38;5;124m\"\u001b[39m\u001b[38;5;124mbalances\u001b[39m\u001b[38;5;124m\"\u001b[39m])\n\u001b[1;32m      3\u001b[0m     w_len \u001b[38;5;241m=\u001b[39m \u001b[38;5;28mlen\u001b[39m(results[strategy][\u001b[38;5;124m\"\u001b[39m\u001b[38;5;124mwithdrawals\u001b[39m\u001b[38;5;124m\"\u001b[39m])\n\u001b[1;32m      4\u001b[0m     \u001b[38;5;28mprint\u001b[39m(\u001b[38;5;124mf\u001b[39m\u001b[38;5;124m\"\u001b[39m\u001b[38;5;132;01m{\u001b[39;00mstrategy\u001b[38;5;132;01m}\u001b[39;00m\u001b[38;5;124m: balances=\u001b[39m\u001b[38;5;132;01m{\u001b[39;00mb_len\u001b[38;5;132;01m}\u001b[39;00m\u001b[38;5;124m, withdrawals=\u001b[39m\u001b[38;5;132;01m{\u001b[39;00mw_len\u001b[38;5;132;01m}\u001b[39;00m\u001b[38;5;124m\"\u001b[39m)\n",
      "\u001b[0;31mKeyError\u001b[0m: 'Fixed'"
     ]
    }
   ],
   "source": [
    "for strategy in strategies:\n",
    "    b_len = len(results[strategy][\"balances\"])\n",
    "    w_len = len(results[strategy][\"withdrawals\"])\n",
    "    print(f\"{strategy}: balances={b_len}, withdrawals={w_len}\")"
   ]
  },
  {
   "cell_type": "code",
   "execution_count": 9,
   "id": "87535586-4187-455f-9800-02471b95568f",
   "metadata": {},
   "outputs": [
    {
     "ename": "KeyError",
     "evalue": "'Fixed'",
     "output_type": "error",
     "traceback": [
      "\u001b[0;31m---------------------------------------------------------------------------\u001b[0m",
      "\u001b[0;31mKeyError\u001b[0m                                  Traceback (most recent call last)",
      "Cell \u001b[0;32mIn[9], line 4\u001b[0m\n\u001b[1;32m      1\u001b[0m target_len \u001b[38;5;241m=\u001b[39m \u001b[38;5;241m5840\u001b[39m  \u001b[38;5;66;03m# confirmed index length\u001b[39;00m\n\u001b[1;32m      3\u001b[0m \u001b[38;5;28;01mfor\u001b[39;00m strategy \u001b[38;5;129;01min\u001b[39;00m strategies:\n\u001b[0;32m----> 4\u001b[0m     results[strategy][\u001b[38;5;124m\"\u001b[39m\u001b[38;5;124mwithdrawals\u001b[39m\u001b[38;5;124m\"\u001b[39m] \u001b[38;5;241m=\u001b[39m pad_to_length(\u001b[43mresults\u001b[49m\u001b[43m[\u001b[49m\u001b[43mstrategy\u001b[49m\u001b[43m]\u001b[49m[\u001b[38;5;124m\"\u001b[39m\u001b[38;5;124mwithdrawals\u001b[39m\u001b[38;5;124m\"\u001b[39m], target_len)\n",
      "\u001b[0;31mKeyError\u001b[0m: 'Fixed'"
     ]
    }
   ],
   "source": [
    "target_len = 5840  # confirmed index length\n",
    "\n",
    "for strategy in strategies:\n",
    "    results[strategy][\"withdrawals\"] = pad_to_length(results[strategy][\"withdrawals\"], target_len)"
   ]
  },
  {
   "cell_type": "code",
   "execution_count": 10,
   "id": "479f1f24-7b76-46b6-867f-7dc1d94092bd",
   "metadata": {},
   "outputs": [],
   "source": [
    "def aggregate_to_yearly(stream, days_per_year=365):\n",
    "    return [\n",
    "        sum(stream[i * days_per_year : (i + 1) * days_per_year])\n",
    "        for i in range(len(stream) // days_per_year)\n",
    "    ]"
   ]
  },
  {
   "cell_type": "code",
   "execution_count": 11,
   "id": "8b8ad899-5028-49bf-88b9-865ca998d196",
   "metadata": {},
   "outputs": [
    {
     "ename": "KeyError",
     "evalue": "'Fixed'",
     "output_type": "error",
     "traceback": [
      "\u001b[0;31m---------------------------------------------------------------------------\u001b[0m",
      "\u001b[0;31mKeyError\u001b[0m                                  Traceback (most recent call last)",
      "Cell \u001b[0;32mIn[11], line 4\u001b[0m\n\u001b[1;32m      1\u001b[0m yearly_results \u001b[38;5;241m=\u001b[39m {}\n\u001b[1;32m      3\u001b[0m \u001b[38;5;28;01mfor\u001b[39;00m strategy \u001b[38;5;129;01min\u001b[39;00m strategies:\n\u001b[0;32m----> 4\u001b[0m     daily_balances \u001b[38;5;241m=\u001b[39m \u001b[43mresults\u001b[49m\u001b[43m[\u001b[49m\u001b[43mstrategy\u001b[49m\u001b[43m]\u001b[49m[\u001b[38;5;124m\"\u001b[39m\u001b[38;5;124mbalances\u001b[39m\u001b[38;5;124m\"\u001b[39m]\n\u001b[1;32m      5\u001b[0m     daily_withdrawals \u001b[38;5;241m=\u001b[39m results[strategy][\u001b[38;5;124m\"\u001b[39m\u001b[38;5;124mwithdrawals\u001b[39m\u001b[38;5;124m\"\u001b[39m]\n\u001b[1;32m      7\u001b[0m     yearly_balances \u001b[38;5;241m=\u001b[39m [\n\u001b[1;32m      8\u001b[0m         daily_balances[(i \u001b[38;5;241m+\u001b[39m \u001b[38;5;241m1\u001b[39m) \u001b[38;5;241m*\u001b[39m \u001b[38;5;241m365\u001b[39m \u001b[38;5;241m-\u001b[39m \u001b[38;5;241m1\u001b[39m]  \u001b[38;5;66;03m# last day of each year\u001b[39;00m\n\u001b[1;32m      9\u001b[0m         \u001b[38;5;28;01mfor\u001b[39;00m i \u001b[38;5;129;01min\u001b[39;00m \u001b[38;5;28mrange\u001b[39m(\u001b[38;5;28mlen\u001b[39m(daily_balances) \u001b[38;5;241m/\u001b[39m\u001b[38;5;241m/\u001b[39m \u001b[38;5;241m365\u001b[39m)\n\u001b[1;32m     10\u001b[0m     ]\n",
      "\u001b[0;31mKeyError\u001b[0m: 'Fixed'"
     ]
    }
   ],
   "source": [
    "yearly_results = {}\n",
    "\n",
    "for strategy in strategies:\n",
    "    daily_balances = results[strategy][\"balances\"]\n",
    "    daily_withdrawals = results[strategy][\"withdrawals\"]\n",
    "\n",
    "    yearly_balances = [\n",
    "        daily_balances[(i + 1) * 365 - 1]  # last day of each year\n",
    "        for i in range(len(daily_balances) // 365)\n",
    "    ]\n",
    "    yearly_withdrawals = aggregate_to_yearly(daily_withdrawals)\n",
    "\n",
    "    yearly_results[strategy] = {\n",
    "        \"balances\": yearly_balances[:30],\n",
    "        \"withdrawals\": yearly_withdrawals[:30]\n",
    "    }"
   ]
  },
  {
   "cell_type": "code",
   "execution_count": 12,
   "id": "9c4d9e6e-9ddf-40fd-967d-e44ce283e70c",
   "metadata": {},
   "outputs": [
    {
     "ename": "NameError",
     "evalue": "name 'df' is not defined",
     "output_type": "error",
     "traceback": [
      "\u001b[0;31m---------------------------------------------------------------------------\u001b[0m",
      "\u001b[0;31mNameError\u001b[0m                                 Traceback (most recent call last)",
      "Cell \u001b[0;32mIn[12], line 1\u001b[0m\n\u001b[0;32m----> 1\u001b[0m \u001b[43mdf\u001b[49m\u001b[38;5;241m.\u001b[39mhead(\u001b[38;5;241m30\u001b[39m)  \u001b[38;5;66;03m# Show first 30 rows\u001b[39;00m\n",
      "\u001b[0;31mNameError\u001b[0m: name 'df' is not defined"
     ]
    }
   ],
   "source": [
    "df.head(30)  # Show first 30 rows"
   ]
  },
  {
   "cell_type": "code",
   "execution_count": 13,
   "id": "60014f0b-5d10-4bb6-8351-79c9c81dbb2c",
   "metadata": {},
   "outputs": [
    {
     "ename": "KeyError",
     "evalue": "'Fixed'",
     "output_type": "error",
     "traceback": [
      "\u001b[0;31m---------------------------------------------------------------------------\u001b[0m",
      "\u001b[0;31mKeyError\u001b[0m                                  Traceback (most recent call last)",
      "Cell \u001b[0;32mIn[13], line 2\u001b[0m\n\u001b[1;32m      1\u001b[0m \u001b[38;5;28;01mfor\u001b[39;00m strategy \u001b[38;5;129;01min\u001b[39;00m strategies:\n\u001b[0;32m----> 2\u001b[0m     \u001b[38;5;28mprint\u001b[39m(\u001b[38;5;124mf\u001b[39m\u001b[38;5;124m\"\u001b[39m\u001b[38;5;132;01m{\u001b[39;00mstrategy\u001b[38;5;132;01m}\u001b[39;00m\u001b[38;5;124m length: \u001b[39m\u001b[38;5;132;01m{\u001b[39;00m\u001b[38;5;28mlen\u001b[39m(\u001b[43mresults\u001b[49m\u001b[43m[\u001b[49m\u001b[43mstrategy\u001b[49m\u001b[43m]\u001b[49m[\u001b[38;5;124m'\u001b[39m\u001b[38;5;124mbalances\u001b[39m\u001b[38;5;124m'\u001b[39m])\u001b[38;5;132;01m}\u001b[39;00m\u001b[38;5;124m\"\u001b[39m)\n",
      "\u001b[0;31mKeyError\u001b[0m: 'Fixed'"
     ]
    }
   ],
   "source": [
    "for strategy in strategies:\n",
    "    print(f\"{strategy} length: {len(results[strategy]['balances'])}\")\n",
    "    "
   ]
  },
  {
   "cell_type": "code",
   "execution_count": 14,
   "id": "cf91a71b-2557-4ef9-9dff-66f64119ffe0",
   "metadata": {},
   "outputs": [],
   "source": [
    "def aggregate_daily_to_annual(results, strategies, years=30, days_per_year=365):\n",
    "    annual = {}\n",
    "\n",
    "    for strategy in strategies:\n",
    "        daily_balances = results[strategy][\"balances\"]\n",
    "        daily_withdrawals = results[strategy][\"withdrawals\"]\n",
    "\n",
    "        # Ensure we don't exceed available data\n",
    "        max_years = min(years, len(daily_balances) // days_per_year)\n",
    "\n",
    "        # Year-end balances: last day of each year\n",
    "        yearly_balances = [\n",
    "            daily_balances[(i + 1) * days_per_year - 1]\n",
    "            for i in range(max_years)\n",
    "        ]\n",
    "\n",
    "        # Annual withdrawals: sum of each year's daily values\n",
    "        yearly_withdrawals = [\n",
    "            sum(daily_withdrawals[i * days_per_year : (i + 1) * days_per_year])\n",
    "            for i in range(max_years)\n",
    "        ]\n",
    "\n",
    "        annual[strategy] = {\n",
    "            \"balances\": yearly_balances,\n",
    "            \"withdrawals\": yearly_withdrawals\n",
    "        }\n",
    "\n",
    "    return annual"
   ]
  },
  {
   "cell_type": "code",
   "execution_count": 15,
   "id": "0dcb765e-c147-4a41-931d-5e9eb15e30e4",
   "metadata": {},
   "outputs": [
    {
     "ename": "KeyError",
     "evalue": "'Fixed'",
     "output_type": "error",
     "traceback": [
      "\u001b[0;31m---------------------------------------------------------------------------\u001b[0m",
      "\u001b[0;31mKeyError\u001b[0m                                  Traceback (most recent call last)",
      "Cell \u001b[0;32mIn[15], line 1\u001b[0m\n\u001b[0;32m----> 1\u001b[0m yearly_results \u001b[38;5;241m=\u001b[39m \u001b[43maggregate_daily_to_annual\u001b[49m\u001b[43m(\u001b[49m\u001b[43mresults\u001b[49m\u001b[43m,\u001b[49m\u001b[43m \u001b[49m\u001b[43mstrategies\u001b[49m\u001b[43m)\u001b[49m\n",
      "Cell \u001b[0;32mIn[14], line 5\u001b[0m, in \u001b[0;36maggregate_daily_to_annual\u001b[0;34m(results, strategies, years, days_per_year)\u001b[0m\n\u001b[1;32m      2\u001b[0m annual \u001b[38;5;241m=\u001b[39m {}\n\u001b[1;32m      4\u001b[0m \u001b[38;5;28;01mfor\u001b[39;00m strategy \u001b[38;5;129;01min\u001b[39;00m strategies:\n\u001b[0;32m----> 5\u001b[0m     daily_balances \u001b[38;5;241m=\u001b[39m \u001b[43mresults\u001b[49m\u001b[43m[\u001b[49m\u001b[43mstrategy\u001b[49m\u001b[43m]\u001b[49m[\u001b[38;5;124m\"\u001b[39m\u001b[38;5;124mbalances\u001b[39m\u001b[38;5;124m\"\u001b[39m]\n\u001b[1;32m      6\u001b[0m     daily_withdrawals \u001b[38;5;241m=\u001b[39m results[strategy][\u001b[38;5;124m\"\u001b[39m\u001b[38;5;124mwithdrawals\u001b[39m\u001b[38;5;124m\"\u001b[39m]\n\u001b[1;32m      8\u001b[0m     \u001b[38;5;66;03m# Ensure we don't exceed available data\u001b[39;00m\n",
      "\u001b[0;31mKeyError\u001b[0m: 'Fixed'"
     ]
    }
   ],
   "source": [
    "yearly_results = aggregate_daily_to_annual(results, strategies)"
   ]
  },
  {
   "cell_type": "code",
   "execution_count": 10,
   "id": "05c48ba4-7d97-4621-98bb-f19b14bcfa65",
   "metadata": {},
   "outputs": [
    {
     "ename": "NameError",
     "evalue": "name 'yearly_results' is not defined",
     "output_type": "error",
     "traceback": [
      "\u001b[0;31m---------------------------------------------------------------------------\u001b[0m",
      "\u001b[0;31mNameError\u001b[0m                                 Traceback (most recent call last)",
      "Cell \u001b[0;32mIn[10], line 1\u001b[0m\n\u001b[0;32m----> 1\u001b[0m years \u001b[38;5;241m=\u001b[39m \u001b[38;5;28mlist\u001b[39m(\u001b[38;5;28mrange\u001b[39m(\u001b[38;5;241m1\u001b[39m, \u001b[38;5;28mlen\u001b[39m(\u001b[43myearly_results\u001b[49m[strategies[\u001b[38;5;241m0\u001b[39m]][\u001b[38;5;124m\"\u001b[39m\u001b[38;5;124mbalances\u001b[39m\u001b[38;5;124m\"\u001b[39m]) \u001b[38;5;241m+\u001b[39m \u001b[38;5;241m1\u001b[39m))\n\u001b[1;32m      2\u001b[0m df \u001b[38;5;241m=\u001b[39m pd\u001b[38;5;241m.\u001b[39mDataFrame(index\u001b[38;5;241m=\u001b[39myears)\n\u001b[1;32m      3\u001b[0m df\u001b[38;5;241m.\u001b[39mindex\u001b[38;5;241m.\u001b[39mname \u001b[38;5;241m=\u001b[39m \u001b[38;5;124m\"\u001b[39m\u001b[38;5;124mYear\u001b[39m\u001b[38;5;124m\"\u001b[39m\n",
      "\u001b[0;31mNameError\u001b[0m: name 'yearly_results' is not defined"
     ]
    }
   ],
   "source": [
    "years = list(range(1, len(yearly_results[strategies[0]][\"balances\"]) + 1))\n",
    "df = pd.DataFrame(index=years)\n",
    "df.index.name = \"Year\"\n",
    "\n",
    "for strategy in strategies:\n",
    "    df[f\"{strategy} Balance\"] = yearly_results[strategy][\"balances\"]\n",
    "    df[f\"{strategy} Withdrawal\"] = yearly_results[strategy][\"withdrawals\"]\n",
    "\n",
    "df  # Display the table"
   ]
  },
  {
   "cell_type": "code",
   "execution_count": 12,
   "id": "028b4592-333c-46a4-a5bb-8ff31f58db9e",
   "metadata": {},
   "outputs": [
    {
     "ename": "TypeError",
     "evalue": "unsupported operand type(s) for +: 'int' and 'list'",
     "output_type": "error",
     "traceback": [
      "\u001b[0;31m---------------------------------------------------------------------------\u001b[0m",
      "\u001b[0;31mTypeError\u001b[0m                                 Traceback (most recent call last)",
      "Cell \u001b[0;32mIn[12], line 12\u001b[0m\n\u001b[1;32m      9\u001b[0m results \u001b[38;5;241m=\u001b[39m {}\n\u001b[1;32m     11\u001b[0m \u001b[38;5;28;01mfor\u001b[39;00m strategy \u001b[38;5;129;01min\u001b[39;00m strategies:\n\u001b[0;32m---> 12\u001b[0m     balances, withdrawals \u001b[38;5;241m=\u001b[39m \u001b[43mrun_simulation\u001b[49m\u001b[43m(\u001b[49m\n\u001b[1;32m     13\u001b[0m \u001b[43m        \u001b[49m\u001b[43mwithdrawal_rate\u001b[49m\u001b[38;5;241;43m=\u001b[39;49m\u001b[43mwithdrawal_rate\u001b[49m\u001b[43m,\u001b[49m\n\u001b[1;32m     14\u001b[0m \u001b[43m        \u001b[49m\u001b[43msp500_weight\u001b[49m\u001b[38;5;241;43m=\u001b[39;49m\u001b[43msp500_weight\u001b[49m\u001b[43m,\u001b[49m\n\u001b[1;32m     15\u001b[0m \u001b[43m        \u001b[49m\u001b[43metf_source\u001b[49m\u001b[38;5;241;43m=\u001b[39;49m\u001b[43metf_source\u001b[49m\u001b[43m,\u001b[49m\n\u001b[1;32m     16\u001b[0m \u001b[43m        \u001b[49m\u001b[43mstrategy\u001b[49m\u001b[38;5;241;43m=\u001b[39;49m\u001b[43mstrategy\u001b[49m\u001b[43m,\u001b[49m\n\u001b[1;32m     17\u001b[0m \u001b[43m        \u001b[49m\u001b[43minitial_balance\u001b[49m\u001b[38;5;241;43m=\u001b[39;49m\u001b[43minitial_balance\u001b[49m\n\u001b[1;32m     18\u001b[0m \u001b[43m    \u001b[49m\u001b[43m)\u001b[49m\n\u001b[1;32m     19\u001b[0m     results[strategy] \u001b[38;5;241m=\u001b[39m {\n\u001b[1;32m     20\u001b[0m         \u001b[38;5;124m\"\u001b[39m\u001b[38;5;124mbalances\u001b[39m\u001b[38;5;124m\"\u001b[39m: balances,\n\u001b[1;32m     21\u001b[0m         \u001b[38;5;124m\"\u001b[39m\u001b[38;5;124mwithdrawals\u001b[39m\u001b[38;5;124m\"\u001b[39m: withdrawals\n\u001b[1;32m     22\u001b[0m     }\n\u001b[1;32m     24\u001b[0m \u001b[38;5;66;03m# Aggregate to annual\u001b[39;00m\n",
      "File \u001b[0;32m/mnt/c/Users/JohnFriedrich/OneDrive/Scripts/Python/RetirementEngine/retirement_engine/simulator.py:43\u001b[0m, in \u001b[0;36mrun_simulation\u001b[0;34m(withdrawal_rate, sp500_weight, etf_source, strategy, initial_balance)\u001b[0m\n\u001b[1;32m     40\u001b[0m         withdrawals\u001b[38;5;241m.\u001b[39mappend(withdrawal)\n\u001b[1;32m     42\u001b[0m     \u001b[38;5;66;03m# Apply daily return\u001b[39;00m\n\u001b[0;32m---> 43\u001b[0m     balance \u001b[38;5;241m*\u001b[39m\u001b[38;5;241m=\u001b[39m \u001b[38;5;241;43m1\u001b[39;49m\u001b[43m \u001b[49m\u001b[38;5;241;43m+\u001b[39;49m\u001b[43m \u001b[49m\u001b[43mreturns\u001b[49m\u001b[43m[\u001b[49m\u001b[43mday\u001b[49m\u001b[43m]\u001b[49m\n\u001b[1;32m     44\u001b[0m     balances\u001b[38;5;241m.\u001b[39mappend(balance)\n\u001b[1;32m     46\u001b[0m \u001b[38;5;28;01mreturn\u001b[39;00m balances, withdrawals\n",
      "\u001b[0;31mTypeError\u001b[0m: unsupported operand type(s) for +: 'int' and 'list'"
     ]
    }
   ],
   "source": [
    "# Parameters\n",
    "withdrawal_rate = 0.05\n",
    "sp500_weight = 0.60\n",
    "etf_source = \"market.csv\"\n",
    "initial_balance = 1_000_000\n",
    "strategies = [\"Fixed\", \"Guardrails\", \"Pause After Loss\", \"Dynamic\"]\n",
    "\n",
    "# Run simulation for each strategy\n",
    "results = {}\n",
    "\n",
    "for strategy in strategies:\n",
    "    balances, withdrawals = run_simulation(\n",
    "        withdrawal_rate=withdrawal_rate,\n",
    "        sp500_weight=sp500_weight,\n",
    "        etf_source=etf_source,\n",
    "        strategy=strategy,\n",
    "        initial_balance=initial_balance\n",
    "    )\n",
    "    results[strategy] = {\n",
    "        \"balances\": balances,\n",
    "        \"withdrawals\": withdrawals\n",
    "    }\n",
    "\n",
    "# Aggregate to annual\n",
    "def aggregate_daily_to_annual(results, strategies, years=30, days_per_year=365):\n",
    "    annual = {}\n",
    "    for strategy in strategies:\n",
    "        daily_balances = results[strategy][\"balances\"]\n",
    "        daily_withdrawals = results[strategy][\"withdrawals\"]\n",
    "\n",
    "        max_years = min(years, len(daily_balances) // days_per_year)\n",
    "\n",
    "        yearly_balances = [\n",
    "            daily_balances[(i + 1) * days_per_year - 1]\n",
    "            for i in range(max_years)\n",
    "        ]\n",
    "        yearly_withdrawals = daily_withdrawals[:max_years]  # already annual\n",
    "\n",
    "        annual[strategy] = {\n",
    "            \"balances\": yearly_balances,\n",
    "            \"withdrawals\": yearly_withdrawals\n",
    "        }\n",
    "\n",
    "    return annual\n",
    "\n",
    "yearly_results = aggregate_daily_to_annual(results, strategies)\n",
    "\n",
    "# Build DataFrame\n",
    "import pandas as pd\n",
    "years = list(range(1, len(yearly_results[strategies[0]][\"balances\"]) + 1))\n",
    "df = pd.DataFrame(index=years)\n",
    "df.index.name = \"Year\"\n",
    "\n",
    "for strategy in strategies:\n",
    "    df[f\"{strategy} Balance\"] = yearly_results[strategy][\"balances\"]\n",
    "    df[f\"{strategy} Withdrawal\"] = yearly_results[strategy][\"withdrawals\"]\n",
    "\n",
    "# Display\n",
    "df.style.format(\"${:,.2f}\")"
   ]
  }
 ],
 "metadata": {
  "kernelspec": {
   "display_name": "Python 3 (ipykernel)",
   "language": "python",
   "name": "python3"
  },
  "language_info": {
   "codemirror_mode": {
    "name": "ipython",
    "version": 3
   },
   "file_extension": ".py",
   "mimetype": "text/x-python",
   "name": "python",
   "nbconvert_exporter": "python",
   "pygments_lexer": "ipython3",
   "version": "3.10.12"
  }
 },
 "nbformat": 4,
 "nbformat_minor": 5
}
