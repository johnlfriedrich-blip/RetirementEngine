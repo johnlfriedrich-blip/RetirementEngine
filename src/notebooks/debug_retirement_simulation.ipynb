{
 "cells": [
  {
   "cell_type": "code",
   "execution_count": 1,
   "id": "324c37d2-d2b0-481d-9564-595a65c31bc0",
   "metadata": {},
   "outputs": [
    {
     "name": "stdout",
     "output_type": "stream",
     "text": [
      "Hello, John\n"
     ]
    }
   ],
   "source": [
    "print(\"Hello, John\")\n"
   ]
  },
  {
   "cell_type": "code",
   "execution_count": 2,
   "id": "99946c30-570e-4f91-b9ba-2f6fcd07055f",
   "metadata": {},
   "outputs": [
    {
     "name": "stdout",
     "output_type": "stream",
     "text": [
      "output/etf_regime_summary.csv\n"
     ]
    }
   ],
   "source": [
    "import pandas as pd\n",
    "import numpy as np\n",
    "import matplotlib.pyplot as plt\n",
    "from pathlib import Path\n",
    "\n",
    "# Set up path to CSV\n",
    "DATA_DIR = Path(\"output\")\n",
    "CSV_PATH = DATA_DIR / \"etf_regime_summary.csv\"\n",
    "print(CSV_PATH)"
   ]
  },
  {
   "cell_type": "code",
   "execution_count": 3,
   "id": "aef62a17-a620-4e34-bef2-1466fbe89040",
   "metadata": {},
   "outputs": [
    {
     "data": {
      "text/plain": [
       "False"
      ]
     },
     "execution_count": 3,
     "metadata": {},
     "output_type": "execute_result"
    }
   ],
   "source": [
    "CSV_PATH.exists()\n"
   ]
  },
  {
   "cell_type": "code",
   "execution_count": 4,
   "id": "26279ee4-2afb-4a36-8895-b50481a621a4",
   "metadata": {},
   "outputs": [
    {
     "data": {
      "text/plain": [
       "['.ipynb_checkpoints',\n",
       " 'ai',\n",
       " 'data',\n",
       " 'debug_retirement_simulation.ipynb',\n",
       " 'features',\n",
       " 'regimes',\n",
       " 'simulation',\n",
       " 'Untitled.ipynb',\n",
       " 'utils',\n",
       " '__init__.py',\n",
       " '__pycache__']"
      ]
     },
     "execution_count": 4,
     "metadata": {},
     "output_type": "execute_result"
    }
   ],
   "source": [
    "import os\n",
    "os.listdir()"
   ]
  },
  {
   "cell_type": "code",
   "execution_count": 5,
   "id": "cf2a9ad5-798c-4cb8-a0ab-aef7cbdafff4",
   "metadata": {},
   "outputs": [
    {
     "data": {
      "text/plain": [
       "False"
      ]
     },
     "execution_count": 5,
     "metadata": {},
     "output_type": "execute_result"
    }
   ],
   "source": [
    "from pathlib import Path\n",
    "\n",
    "CSV_PATH = Path(\"output/etf_regime_summary.csv\")\n",
    "CSV_PATH.exists()  # Should now return True"
   ]
  },
  {
   "cell_type": "code",
   "execution_count": 6,
   "id": "fd3af1ae-320e-44c1-b9e7-2c5e93d9e3d3",
   "metadata": {},
   "outputs": [
    {
     "data": {
      "text/plain": [
       "True"
      ]
     },
     "execution_count": 6,
     "metadata": {},
     "output_type": "execute_result"
    }
   ],
   "source": [
    "from pathlib import Path\n",
    "\n",
    "CSV_PATH = Path(\"/mnt/c/Users/JohnFriedrich/OneDrive/Scripts/Python/RetirementEngine/output/etf_regime_summary.csv\")\n",
    "CSV_PATH.exists()"
   ]
  },
  {
   "cell_type": "code",
   "execution_count": 7,
   "id": "011eb20e-25b8-453d-8a2b-3e791ac1e9ea",
   "metadata": {},
   "outputs": [
    {
     "data": {
      "text/html": [
       "<div>\n",
       "<style scoped>\n",
       "    .dataframe tbody tr th:only-of-type {\n",
       "        vertical-align: middle;\n",
       "    }\n",
       "\n",
       "    .dataframe tbody tr th {\n",
       "        vertical-align: top;\n",
       "    }\n",
       "\n",
       "    .dataframe thead th {\n",
       "        text-align: right;\n",
       "    }\n",
       "</style>\n",
       "<table border=\"1\" class=\"dataframe\">\n",
       "  <thead>\n",
       "    <tr style=\"text-align: right;\">\n",
       "      <th></th>\n",
       "      <th>0</th>\n",
       "      <th>1</th>\n",
       "      <th>2</th>\n",
       "      <th>3</th>\n",
       "      <th>4</th>\n",
       "      <th>5</th>\n",
       "      <th>6</th>\n",
       "      <th>7</th>\n",
       "      <th>8</th>\n",
       "    </tr>\n",
       "  </thead>\n",
       "  <tbody>\n",
       "    <tr>\n",
       "      <th>0</th>\n",
       "      <td>SP500</td>\n",
       "      <td>SP500</td>\n",
       "      <td>SP500</td>\n",
       "      <td>VIX</td>\n",
       "      <td>VIX</td>\n",
       "      <td>VIX</td>\n",
       "      <td>10Y</td>\n",
       "      <td>10Y</td>\n",
       "      <td>10Y</td>\n",
       "    </tr>\n",
       "    <tr>\n",
       "      <th>1</th>\n",
       "      <td>mean</td>\n",
       "      <td>std</td>\n",
       "      <td>count</td>\n",
       "      <td>mean</td>\n",
       "      <td>std</td>\n",
       "      <td>count</td>\n",
       "      <td>mean</td>\n",
       "      <td>std</td>\n",
       "      <td>count</td>\n",
       "    </tr>\n",
       "    <tr>\n",
       "      <th>2</th>\n",
       "      <td>0.00037187645226793544</td>\n",
       "      <td>0.007229047047534224</td>\n",
       "      <td>125</td>\n",
       "      <td>0.02757004033865504</td>\n",
       "      <td>0.36485778734</td>\n",
       "      <td>125</td>\n",
       "      <td>-0.0014036135534965196</td>\n",
       "      <td>0.009979041649077555</td>\n",
       "      <td>125</td>\n",
       "    </tr>\n",
       "    <tr>\n",
       "      <th>3</th>\n",
       "      <td>0.0004907886515918818</td>\n",
       "      <td>0.012915215132989252</td>\n",
       "      <td>1509</td>\n",
       "      <td>0.0030283392360296417</td>\n",
       "      <td>0.1143817531869525</td>\n",
       "      <td>1509</td>\n",
       "      <td>1.1727961667940733e-05</td>\n",
       "      <td>0.010570750738421049</td>\n",
       "      <td>1509</td>\n",
       "    </tr>\n",
       "  </tbody>\n",
       "</table>\n",
       "</div>"
      ],
      "text/plain": [
       "                        0                     1      2                      3  \\\n",
       "0                   SP500                 SP500  SP500                    VIX   \n",
       "1                    mean                   std  count                   mean   \n",
       "2  0.00037187645226793544  0.007229047047534224    125    0.02757004033865504   \n",
       "3   0.0004907886515918818  0.012915215132989252   1509  0.0030283392360296417   \n",
       "\n",
       "                    4      5                       6                     7  \\\n",
       "0                 VIX    VIX                     10Y                   10Y   \n",
       "1                 std  count                    mean                   std   \n",
       "2       0.36485778734    125  -0.0014036135534965196  0.009979041649077555   \n",
       "3  0.1143817531869525   1509  1.1727961667940733e-05  0.010570750738421049   \n",
       "\n",
       "       8  \n",
       "0    10Y  \n",
       "1  count  \n",
       "2    125  \n",
       "3   1509  "
      ]
     },
     "execution_count": 7,
     "metadata": {},
     "output_type": "execute_result"
    }
   ],
   "source": [
    "import pandas as pd\n",
    "\n",
    "raw = pd.read_csv(CSV_PATH, header=None)\n",
    "raw.head(6)"
   ]
  },
  {
   "cell_type": "code",
   "execution_count": 8,
   "id": "5d28b424-f91e-468d-8001-db1acc26ce4e",
   "metadata": {},
   "outputs": [
    {
     "data": {
      "text/html": [
       "<div>\n",
       "<style scoped>\n",
       "    .dataframe tbody tr th:only-of-type {\n",
       "        vertical-align: middle;\n",
       "    }\n",
       "\n",
       "    .dataframe tbody tr th {\n",
       "        vertical-align: top;\n",
       "    }\n",
       "\n",
       "    .dataframe thead tr th {\n",
       "        text-align: left;\n",
       "    }\n",
       "</style>\n",
       "<table border=\"1\" class=\"dataframe\">\n",
       "  <thead>\n",
       "    <tr>\n",
       "      <th></th>\n",
       "      <th>SP500</th>\n",
       "      <th>SP500.1</th>\n",
       "      <th>SP500.2</th>\n",
       "      <th>VIX</th>\n",
       "      <th>VIX.1</th>\n",
       "      <th>VIX.2</th>\n",
       "      <th>10Y</th>\n",
       "      <th>10Y.1</th>\n",
       "      <th>10Y.2</th>\n",
       "    </tr>\n",
       "  </thead>\n",
       "  <tbody>\n",
       "    <tr>\n",
       "      <th>0</th>\n",
       "      <td>mean</td>\n",
       "      <td>std</td>\n",
       "      <td>count</td>\n",
       "      <td>mean</td>\n",
       "      <td>std</td>\n",
       "      <td>count</td>\n",
       "      <td>mean</td>\n",
       "      <td>std</td>\n",
       "      <td>count</td>\n",
       "    </tr>\n",
       "    <tr>\n",
       "      <th>1</th>\n",
       "      <td>0.00037187645226793544</td>\n",
       "      <td>0.007229047047534224</td>\n",
       "      <td>125</td>\n",
       "      <td>0.02757004033865504</td>\n",
       "      <td>0.36485778734</td>\n",
       "      <td>125</td>\n",
       "      <td>-0.0014036135534965196</td>\n",
       "      <td>0.009979041649077555</td>\n",
       "      <td>125</td>\n",
       "    </tr>\n",
       "    <tr>\n",
       "      <th>2</th>\n",
       "      <td>0.0004907886515918818</td>\n",
       "      <td>0.012915215132989252</td>\n",
       "      <td>1509</td>\n",
       "      <td>0.0030283392360296417</td>\n",
       "      <td>0.1143817531869525</td>\n",
       "      <td>1509</td>\n",
       "      <td>1.1727961667940733e-05</td>\n",
       "      <td>0.010570750738421049</td>\n",
       "      <td>1509</td>\n",
       "    </tr>\n",
       "  </tbody>\n",
       "</table>\n",
       "</div>"
      ],
      "text/plain": [
       "                    SP500               SP500.1 SP500.2  \\\n",
       "0                    mean                   std   count   \n",
       "1  0.00037187645226793544  0.007229047047534224     125   \n",
       "2   0.0004907886515918818  0.012915215132989252    1509   \n",
       "\n",
       "                     VIX               VIX.1  VIX.2                     10Y  \\\n",
       "0                   mean                 std  count                    mean   \n",
       "1    0.02757004033865504       0.36485778734    125  -0.0014036135534965196   \n",
       "2  0.0030283392360296417  0.1143817531869525   1509  1.1727961667940733e-05   \n",
       "\n",
       "                  10Y.1  10Y.2  \n",
       "0                   std  count  \n",
       "1  0.009979041649077555    125  \n",
       "2  0.010570750738421049   1509  "
      ]
     },
     "execution_count": 8,
     "metadata": {},
     "output_type": "execute_result"
    }
   ],
   "source": [
    "# Load raw CSV\n",
    "raw = pd.read_csv(CSV_PATH, header=0)\n",
    "\n",
    "# Create MultiIndex for columns\n",
    "raw.columns = pd.MultiIndex.from_tuples([\n",
    "    tuple(col.strip().replace(\")\", \"\").split(\" (\")) for col in raw.columns\n",
    "])\n",
    "\n",
    "# Preview reshaped DataFrame\n",
    "raw.head()"
   ]
  },
  {
   "cell_type": "code",
   "execution_count": 9,
   "id": "d516bacf-d94b-4366-b0b2-51777bad1faf",
   "metadata": {},
   "outputs": [
    {
     "data": {
      "text/html": [
       "<div>\n",
       "<style scoped>\n",
       "    .dataframe tbody tr th:only-of-type {\n",
       "        vertical-align: middle;\n",
       "    }\n",
       "\n",
       "    .dataframe tbody tr th {\n",
       "        vertical-align: top;\n",
       "    }\n",
       "\n",
       "    .dataframe thead tr th {\n",
       "        text-align: left;\n",
       "    }\n",
       "</style>\n",
       "<table border=\"1\" class=\"dataframe\">\n",
       "  <thead>\n",
       "    <tr>\n",
       "      <th></th>\n",
       "      <th colspan=\"3\" halign=\"left\">SP500</th>\n",
       "      <th colspan=\"3\" halign=\"left\">VIX</th>\n",
       "      <th colspan=\"3\" halign=\"left\">10Y</th>\n",
       "    </tr>\n",
       "    <tr>\n",
       "      <th></th>\n",
       "      <th>mean</th>\n",
       "      <th>std</th>\n",
       "      <th>count</th>\n",
       "      <th>mean</th>\n",
       "      <th>std</th>\n",
       "      <th>count</th>\n",
       "      <th>mean</th>\n",
       "      <th>std</th>\n",
       "      <th>count</th>\n",
       "    </tr>\n",
       "  </thead>\n",
       "  <tbody>\n",
       "    <tr>\n",
       "      <th>0</th>\n",
       "      <td>0.000372</td>\n",
       "      <td>0.007229</td>\n",
       "      <td>125</td>\n",
       "      <td>0.027570</td>\n",
       "      <td>0.364858</td>\n",
       "      <td>125</td>\n",
       "      <td>-0.001404</td>\n",
       "      <td>0.009979</td>\n",
       "      <td>125</td>\n",
       "    </tr>\n",
       "    <tr>\n",
       "      <th>1</th>\n",
       "      <td>0.000491</td>\n",
       "      <td>0.012915</td>\n",
       "      <td>1509</td>\n",
       "      <td>0.003028</td>\n",
       "      <td>0.114382</td>\n",
       "      <td>1509</td>\n",
       "      <td>0.000012</td>\n",
       "      <td>0.010571</td>\n",
       "      <td>1509</td>\n",
       "    </tr>\n",
       "  </tbody>\n",
       "</table>\n",
       "</div>"
      ],
      "text/plain": [
       "      SP500                       VIX                       10Y            \\\n",
       "       mean       std count      mean       std count      mean       std   \n",
       "0  0.000372  0.007229   125  0.027570  0.364858   125 -0.001404  0.009979   \n",
       "1  0.000491  0.012915  1509  0.003028  0.114382  1509  0.000012  0.010571   \n",
       "\n",
       "         \n",
       "  count  \n",
       "0   125  \n",
       "1  1509  "
      ]
     },
     "execution_count": 9,
     "metadata": {},
     "output_type": "execute_result"
    }
   ],
   "source": [
    "raw = pd.read_csv(CSV_PATH, header=[0,1])\n",
    "raw.head()"
   ]
  },
  {
   "cell_type": "code",
   "execution_count": 10,
   "id": "352c38d0-e8ef-44ac-918f-e8d66f429f1d",
   "metadata": {},
   "outputs": [
    {
     "data": {
      "text/html": [
       "<div>\n",
       "<style scoped>\n",
       "    .dataframe tbody tr th:only-of-type {\n",
       "        vertical-align: middle;\n",
       "    }\n",
       "\n",
       "    .dataframe tbody tr th {\n",
       "        vertical-align: top;\n",
       "    }\n",
       "\n",
       "    .dataframe thead tr th {\n",
       "        text-align: left;\n",
       "    }\n",
       "</style>\n",
       "<table border=\"1\" class=\"dataframe\">\n",
       "  <thead>\n",
       "    <tr>\n",
       "      <th></th>\n",
       "      <th colspan=\"3\" halign=\"left\">SP500</th>\n",
       "      <th colspan=\"3\" halign=\"left\">VIX</th>\n",
       "      <th colspan=\"3\" halign=\"left\">10Y</th>\n",
       "    </tr>\n",
       "    <tr>\n",
       "      <th></th>\n",
       "      <th>mean</th>\n",
       "      <th>std</th>\n",
       "      <th>count</th>\n",
       "      <th>mean</th>\n",
       "      <th>std</th>\n",
       "      <th>count</th>\n",
       "      <th>mean</th>\n",
       "      <th>std</th>\n",
       "      <th>count</th>\n",
       "    </tr>\n",
       "  </thead>\n",
       "  <tbody>\n",
       "    <tr>\n",
       "      <th>0</th>\n",
       "      <td>0.000372</td>\n",
       "      <td>0.007229</td>\n",
       "      <td>125</td>\n",
       "      <td>0.027570</td>\n",
       "      <td>0.364858</td>\n",
       "      <td>125</td>\n",
       "      <td>-0.001404</td>\n",
       "      <td>0.009979</td>\n",
       "      <td>125</td>\n",
       "    </tr>\n",
       "    <tr>\n",
       "      <th>1</th>\n",
       "      <td>0.000491</td>\n",
       "      <td>0.012915</td>\n",
       "      <td>1509</td>\n",
       "      <td>0.003028</td>\n",
       "      <td>0.114382</td>\n",
       "      <td>1509</td>\n",
       "      <td>0.000012</td>\n",
       "      <td>0.010571</td>\n",
       "      <td>1509</td>\n",
       "    </tr>\n",
       "  </tbody>\n",
       "</table>\n",
       "</div>"
      ],
      "text/plain": [
       "      SP500                       VIX                       10Y            \\\n",
       "       mean       std count      mean       std count      mean       std   \n",
       "0  0.000372  0.007229   125  0.027570  0.364858   125 -0.001404  0.009979   \n",
       "1  0.000491  0.012915  1509  0.003028  0.114382  1509  0.000012  0.010571   \n",
       "\n",
       "         \n",
       "  count  \n",
       "0   125  \n",
       "1  1509  "
      ]
     },
     "execution_count": 10,
     "metadata": {},
     "output_type": "execute_result"
    }
   ],
   "source": [
    "raw = pd.read_csv(CSV_PATH, header=[0, 1])\n",
    "raw.head()\n"
   ]
  },
  {
   "cell_type": "code",
   "execution_count": 11,
   "id": "5f638b30-70d9-45c0-be24-3bf553669b57",
   "metadata": {},
   "outputs": [],
   "source": [
    "raw.index = [\"Expansion\", \"Recession\"]"
   ]
  },
  {
   "cell_type": "code",
   "execution_count": 12,
   "id": "acf7b524-6c7b-4b1d-aed4-2d0fefb4bb74",
   "metadata": {},
   "outputs": [],
   "source": [
    "mean_matrix = raw.xs(\"mean\", axis=1, level=1)\n",
    "std_matrix = raw.xs(\"std\", axis=1, level=1)\n",
    "count_matrix = raw.xs(\"count\", axis=1, level=1)"
   ]
  },
  {
   "cell_type": "code",
   "execution_count": 13,
   "id": "03a44e34-c76d-401f-83ff-8313919570c8",
   "metadata": {},
   "outputs": [
    {
     "data": {
      "text/html": [
       "<div>\n",
       "<style scoped>\n",
       "    .dataframe tbody tr th:only-of-type {\n",
       "        vertical-align: middle;\n",
       "    }\n",
       "\n",
       "    .dataframe tbody tr th {\n",
       "        vertical-align: top;\n",
       "    }\n",
       "\n",
       "    .dataframe thead th {\n",
       "        text-align: right;\n",
       "    }\n",
       "</style>\n",
       "<table border=\"1\" class=\"dataframe\">\n",
       "  <thead>\n",
       "    <tr style=\"text-align: right;\">\n",
       "      <th></th>\n",
       "      <th>SP500</th>\n",
       "      <th>VIX</th>\n",
       "      <th>10Y</th>\n",
       "    </tr>\n",
       "  </thead>\n",
       "  <tbody>\n",
       "    <tr>\n",
       "      <th>Expansion</th>\n",
       "      <td>0.000372</td>\n",
       "      <td>0.027570</td>\n",
       "      <td>-0.001404</td>\n",
       "    </tr>\n",
       "    <tr>\n",
       "      <th>Recession</th>\n",
       "      <td>0.000491</td>\n",
       "      <td>0.003028</td>\n",
       "      <td>0.000012</td>\n",
       "    </tr>\n",
       "  </tbody>\n",
       "</table>\n",
       "</div>"
      ],
      "text/plain": [
       "              SP500       VIX       10Y\n",
       "Expansion  0.000372  0.027570 -0.001404\n",
       "Recession  0.000491  0.003028  0.000012"
      ]
     },
     "execution_count": 13,
     "metadata": {},
     "output_type": "execute_result"
    }
   ],
   "source": [
    "mean_matrix"
   ]
  },
  {
   "cell_type": "code",
   "execution_count": 14,
   "id": "5c13da67-6980-42bc-ada3-ca77a237070e",
   "metadata": {},
   "outputs": [],
   "source": [
    "raw = pd.read_csv(CSV_PATH, header=[0, 1])\n"
   ]
  },
  {
   "cell_type": "code",
   "execution_count": 15,
   "id": "15528ffd-dbe8-45f2-94c4-2e6dd4c54e5e",
   "metadata": {},
   "outputs": [
    {
     "data": {
      "text/html": [
       "<div>\n",
       "<style scoped>\n",
       "    .dataframe tbody tr th:only-of-type {\n",
       "        vertical-align: middle;\n",
       "    }\n",
       "\n",
       "    .dataframe tbody tr th {\n",
       "        vertical-align: top;\n",
       "    }\n",
       "\n",
       "    .dataframe thead tr th {\n",
       "        text-align: left;\n",
       "    }\n",
       "</style>\n",
       "<table border=\"1\" class=\"dataframe\">\n",
       "  <thead>\n",
       "    <tr>\n",
       "      <th></th>\n",
       "      <th colspan=\"3\" halign=\"left\">SP500</th>\n",
       "      <th colspan=\"3\" halign=\"left\">VIX</th>\n",
       "      <th colspan=\"3\" halign=\"left\">10Y</th>\n",
       "    </tr>\n",
       "    <tr>\n",
       "      <th></th>\n",
       "      <th>mean</th>\n",
       "      <th>std</th>\n",
       "      <th>count</th>\n",
       "      <th>mean</th>\n",
       "      <th>std</th>\n",
       "      <th>count</th>\n",
       "      <th>mean</th>\n",
       "      <th>std</th>\n",
       "      <th>count</th>\n",
       "    </tr>\n",
       "  </thead>\n",
       "  <tbody>\n",
       "    <tr>\n",
       "      <th>0</th>\n",
       "      <td>0.000372</td>\n",
       "      <td>0.007229</td>\n",
       "      <td>125</td>\n",
       "      <td>0.027570</td>\n",
       "      <td>0.364858</td>\n",
       "      <td>125</td>\n",
       "      <td>-0.001404</td>\n",
       "      <td>0.009979</td>\n",
       "      <td>125</td>\n",
       "    </tr>\n",
       "    <tr>\n",
       "      <th>1</th>\n",
       "      <td>0.000491</td>\n",
       "      <td>0.012915</td>\n",
       "      <td>1509</td>\n",
       "      <td>0.003028</td>\n",
       "      <td>0.114382</td>\n",
       "      <td>1509</td>\n",
       "      <td>0.000012</td>\n",
       "      <td>0.010571</td>\n",
       "      <td>1509</td>\n",
       "    </tr>\n",
       "  </tbody>\n",
       "</table>\n",
       "</div>"
      ],
      "text/plain": [
       "      SP500                       VIX                       10Y            \\\n",
       "       mean       std count      mean       std count      mean       std   \n",
       "0  0.000372  0.007229   125  0.027570  0.364858   125 -0.001404  0.009979   \n",
       "1  0.000491  0.012915  1509  0.003028  0.114382  1509  0.000012  0.010571   \n",
       "\n",
       "         \n",
       "  count  \n",
       "0   125  \n",
       "1  1509  "
      ]
     },
     "execution_count": 15,
     "metadata": {},
     "output_type": "execute_result"
    }
   ],
   "source": [
    "raw.head()\n"
   ]
  },
  {
   "cell_type": "code",
   "execution_count": 16,
   "id": "213c1334-bf76-41b9-a0aa-86bb7065d87f",
   "metadata": {},
   "outputs": [],
   "source": [
    "mean_matrix = raw.xs(\"mean\", axis=1, level=1)"
   ]
  },
  {
   "cell_type": "code",
   "execution_count": 17,
   "id": "b2343ef9-c01e-45de-ba61-9375cc8a929b",
   "metadata": {},
   "outputs": [
    {
     "data": {
      "text/html": [
       "<div>\n",
       "<style scoped>\n",
       "    .dataframe tbody tr th:only-of-type {\n",
       "        vertical-align: middle;\n",
       "    }\n",
       "\n",
       "    .dataframe tbody tr th {\n",
       "        vertical-align: top;\n",
       "    }\n",
       "\n",
       "    .dataframe thead th {\n",
       "        text-align: right;\n",
       "    }\n",
       "</style>\n",
       "<table border=\"1\" class=\"dataframe\">\n",
       "  <thead>\n",
       "    <tr style=\"text-align: right;\">\n",
       "      <th></th>\n",
       "      <th>SP500</th>\n",
       "      <th>VIX</th>\n",
       "      <th>10Y</th>\n",
       "    </tr>\n",
       "  </thead>\n",
       "  <tbody>\n",
       "    <tr>\n",
       "      <th>0</th>\n",
       "      <td>0.000372</td>\n",
       "      <td>0.027570</td>\n",
       "      <td>-0.001404</td>\n",
       "    </tr>\n",
       "    <tr>\n",
       "      <th>1</th>\n",
       "      <td>0.000491</td>\n",
       "      <td>0.003028</td>\n",
       "      <td>0.000012</td>\n",
       "    </tr>\n",
       "  </tbody>\n",
       "</table>\n",
       "</div>"
      ],
      "text/plain": [
       "      SP500       VIX       10Y\n",
       "0  0.000372  0.027570 -0.001404\n",
       "1  0.000491  0.003028  0.000012"
      ]
     },
     "execution_count": 17,
     "metadata": {},
     "output_type": "execute_result"
    }
   ],
   "source": [
    "mean_matrix"
   ]
  },
  {
   "cell_type": "code",
   "execution_count": 18,
   "id": "14c0453a-f56f-4f65-8d87-9cd7d23c826c",
   "metadata": {},
   "outputs": [],
   "source": [
    "import pandas as pd\n",
    "\n",
    "# Define the matrix manually (or use raw.xs if already loaded)\n",
    "mean_matrix = pd.DataFrame({\n",
    "    \"SP500\": [0.000372, 0.000491],\n",
    "    \"VIX\":   [0.027570, 0.003028],\n",
    "    \"10Y\":   [-0.001404, 0.000012]\n",
    "}, index=[\"Expansion\", \"Recession\"])"
   ]
  },
  {
   "cell_type": "code",
   "execution_count": 19,
   "id": "a8cd4dad-8766-489c-89e9-22d050e7647d",
   "metadata": {},
   "outputs": [
    {
     "data": {
      "text/html": [
       "<div>\n",
       "<style scoped>\n",
       "    .dataframe tbody tr th:only-of-type {\n",
       "        vertical-align: middle;\n",
       "    }\n",
       "\n",
       "    .dataframe tbody tr th {\n",
       "        vertical-align: top;\n",
       "    }\n",
       "\n",
       "    .dataframe thead th {\n",
       "        text-align: right;\n",
       "    }\n",
       "</style>\n",
       "<table border=\"1\" class=\"dataframe\">\n",
       "  <thead>\n",
       "    <tr style=\"text-align: right;\">\n",
       "      <th></th>\n",
       "      <th>SP500</th>\n",
       "      <th>VIX</th>\n",
       "      <th>10Y</th>\n",
       "    </tr>\n",
       "  </thead>\n",
       "  <tbody>\n",
       "    <tr>\n",
       "      <th>Expansion</th>\n",
       "      <td>0.000372</td>\n",
       "      <td>0.027570</td>\n",
       "      <td>-0.001404</td>\n",
       "    </tr>\n",
       "    <tr>\n",
       "      <th>Recession</th>\n",
       "      <td>0.000491</td>\n",
       "      <td>0.003028</td>\n",
       "      <td>0.000012</td>\n",
       "    </tr>\n",
       "  </tbody>\n",
       "</table>\n",
       "</div>"
      ],
      "text/plain": [
       "              SP500       VIX       10Y\n",
       "Expansion  0.000372  0.027570 -0.001404\n",
       "Recession  0.000491  0.003028  0.000012"
      ]
     },
     "execution_count": 19,
     "metadata": {},
     "output_type": "execute_result"
    }
   ],
   "source": [
    "mean_matrix"
   ]
  },
  {
   "cell_type": "code",
   "execution_count": 20,
   "id": "fe90bc8e-3b69-4ee5-ac9c-eddf4aa4315e",
   "metadata": {},
   "outputs": [],
   "source": [
    "mean_matrix = pd.DataFrame({\n",
    "    \"SP500\": [0.000372, 0.000491],\n",
    "    \"VIX\":   [0.027570, 0.003028],\n",
    "    \"10Y\":   [-0.001404, 0.000012]\n",
    "}, index=[\"Expansion\", \"Recession\"])\n",
    "\n"
   ]
  },
  {
   "cell_type": "code",
   "execution_count": 21,
   "id": "ddbe1ad8-0216-4140-a932-79460a09b631",
   "metadata": {},
   "outputs": [
    {
     "data": {
      "text/html": [
       "<div>\n",
       "<style scoped>\n",
       "    .dataframe tbody tr th:only-of-type {\n",
       "        vertical-align: middle;\n",
       "    }\n",
       "\n",
       "    .dataframe tbody tr th {\n",
       "        vertical-align: top;\n",
       "    }\n",
       "\n",
       "    .dataframe thead th {\n",
       "        text-align: right;\n",
       "    }\n",
       "</style>\n",
       "<table border=\"1\" class=\"dataframe\">\n",
       "  <thead>\n",
       "    <tr style=\"text-align: right;\">\n",
       "      <th></th>\n",
       "      <th>SP500</th>\n",
       "      <th>VIX</th>\n",
       "      <th>10Y</th>\n",
       "    </tr>\n",
       "  </thead>\n",
       "  <tbody>\n",
       "    <tr>\n",
       "      <th>Expansion</th>\n",
       "      <td>0.000372</td>\n",
       "      <td>0.027570</td>\n",
       "      <td>-0.001404</td>\n",
       "    </tr>\n",
       "    <tr>\n",
       "      <th>Recession</th>\n",
       "      <td>0.000491</td>\n",
       "      <td>0.003028</td>\n",
       "      <td>0.000012</td>\n",
       "    </tr>\n",
       "  </tbody>\n",
       "</table>\n",
       "</div>"
      ],
      "text/plain": [
       "              SP500       VIX       10Y\n",
       "Expansion  0.000372  0.027570 -0.001404\n",
       "Recession  0.000491  0.003028  0.000012"
      ]
     },
     "execution_count": 21,
     "metadata": {},
     "output_type": "execute_result"
    }
   ],
   "source": [
    "mean_matrix"
   ]
  },
  {
   "cell_type": "code",
   "execution_count": 22,
   "id": "75c01c4c-cc87-4243-8853-ab647f310b8e",
   "metadata": {},
   "outputs": [],
   "source": [
    "portfolio_weights = {\n",
    "    \"Expansion\": {\"SP500\": 0.6, \"VIX\": 0.2, \"10Y\": 0.2},\n",
    "    \"Recession\": {\"SP500\": 0.3, \"VIX\": 0.4, \"10Y\": 0.3}\n",
    "}"
   ]
  },
  {
   "cell_type": "code",
   "execution_count": 23,
   "id": "6c1cc54c-9a3a-4a27-b16f-fc2408b9dc98",
   "metadata": {},
   "outputs": [],
   "source": [
    "expected_returns = {}\n",
    "\n",
    "for regime in mean_matrix.index:\n",
    "    weights = portfolio_weights[regime]\n",
    "    regime_returns = mean_matrix.loc[regime]\n",
    "    expected_returns[regime] = sum(regime_returns[ticker] * weights[ticker] for ticker in weights)"
   ]
  },
  {
   "cell_type": "code",
   "execution_count": 25,
   "id": "26f7064d-208b-4099-8f87-44d44115aa74",
   "metadata": {},
   "outputs": [
    {
     "ename": "FileNotFoundError",
     "evalue": "[Errno 2] No such file or directory: 'data/etf_prices.csv'",
     "output_type": "error",
     "traceback": [
      "\u001b[0;31m---------------------------------------------------------------------------\u001b[0m",
      "\u001b[0;31mFileNotFoundError\u001b[0m                         Traceback (most recent call last)",
      "Cell \u001b[0;32mIn[25], line 1\u001b[0m\n\u001b[0;32m----> 1\u001b[0m prices_df \u001b[38;5;241m=\u001b[39m \u001b[43mpd\u001b[49m\u001b[38;5;241;43m.\u001b[39;49m\u001b[43mread_csv\u001b[49m\u001b[43m(\u001b[49m\u001b[38;5;124;43m\"\u001b[39;49m\u001b[38;5;124;43mdata/etf_prices.csv\u001b[39;49m\u001b[38;5;124;43m\"\u001b[39;49m\u001b[43m,\u001b[49m\u001b[43m \u001b[49m\u001b[43mindex_col\u001b[49m\u001b[38;5;241;43m=\u001b[39;49m\u001b[38;5;241;43m0\u001b[39;49m\u001b[43m,\u001b[49m\u001b[43m \u001b[49m\u001b[43mparse_dates\u001b[49m\u001b[38;5;241;43m=\u001b[39;49m\u001b[38;5;28;43;01mTrue\u001b[39;49;00m\u001b[43m)\u001b[49m\n\u001b[1;32m      2\u001b[0m prices_df \u001b[38;5;241m=\u001b[39m prices_df\u001b[38;5;241m.\u001b[39msort_index()\n",
      "File \u001b[0;32m~/RetirementEngine/.venv/lib/python3.10/site-packages/pandas/io/parsers/readers.py:1026\u001b[0m, in \u001b[0;36mread_csv\u001b[0;34m(filepath_or_buffer, sep, delimiter, header, names, index_col, usecols, dtype, engine, converters, true_values, false_values, skipinitialspace, skiprows, skipfooter, nrows, na_values, keep_default_na, na_filter, verbose, skip_blank_lines, parse_dates, infer_datetime_format, keep_date_col, date_parser, date_format, dayfirst, cache_dates, iterator, chunksize, compression, thousands, decimal, lineterminator, quotechar, quoting, doublequote, escapechar, comment, encoding, encoding_errors, dialect, on_bad_lines, delim_whitespace, low_memory, memory_map, float_precision, storage_options, dtype_backend)\u001b[0m\n\u001b[1;32m   1013\u001b[0m kwds_defaults \u001b[38;5;241m=\u001b[39m _refine_defaults_read(\n\u001b[1;32m   1014\u001b[0m     dialect,\n\u001b[1;32m   1015\u001b[0m     delimiter,\n\u001b[0;32m   (...)\u001b[0m\n\u001b[1;32m   1022\u001b[0m     dtype_backend\u001b[38;5;241m=\u001b[39mdtype_backend,\n\u001b[1;32m   1023\u001b[0m )\n\u001b[1;32m   1024\u001b[0m kwds\u001b[38;5;241m.\u001b[39mupdate(kwds_defaults)\n\u001b[0;32m-> 1026\u001b[0m \u001b[38;5;28;01mreturn\u001b[39;00m \u001b[43m_read\u001b[49m\u001b[43m(\u001b[49m\u001b[43mfilepath_or_buffer\u001b[49m\u001b[43m,\u001b[49m\u001b[43m \u001b[49m\u001b[43mkwds\u001b[49m\u001b[43m)\u001b[49m\n",
      "File \u001b[0;32m~/RetirementEngine/.venv/lib/python3.10/site-packages/pandas/io/parsers/readers.py:620\u001b[0m, in \u001b[0;36m_read\u001b[0;34m(filepath_or_buffer, kwds)\u001b[0m\n\u001b[1;32m    617\u001b[0m _validate_names(kwds\u001b[38;5;241m.\u001b[39mget(\u001b[38;5;124m\"\u001b[39m\u001b[38;5;124mnames\u001b[39m\u001b[38;5;124m\"\u001b[39m, \u001b[38;5;28;01mNone\u001b[39;00m))\n\u001b[1;32m    619\u001b[0m \u001b[38;5;66;03m# Create the parser.\u001b[39;00m\n\u001b[0;32m--> 620\u001b[0m parser \u001b[38;5;241m=\u001b[39m \u001b[43mTextFileReader\u001b[49m\u001b[43m(\u001b[49m\u001b[43mfilepath_or_buffer\u001b[49m\u001b[43m,\u001b[49m\u001b[43m \u001b[49m\u001b[38;5;241;43m*\u001b[39;49m\u001b[38;5;241;43m*\u001b[39;49m\u001b[43mkwds\u001b[49m\u001b[43m)\u001b[49m\n\u001b[1;32m    622\u001b[0m \u001b[38;5;28;01mif\u001b[39;00m chunksize \u001b[38;5;129;01mor\u001b[39;00m iterator:\n\u001b[1;32m    623\u001b[0m     \u001b[38;5;28;01mreturn\u001b[39;00m parser\n",
      "File \u001b[0;32m~/RetirementEngine/.venv/lib/python3.10/site-packages/pandas/io/parsers/readers.py:1620\u001b[0m, in \u001b[0;36mTextFileReader.__init__\u001b[0;34m(self, f, engine, **kwds)\u001b[0m\n\u001b[1;32m   1617\u001b[0m     \u001b[38;5;28mself\u001b[39m\u001b[38;5;241m.\u001b[39moptions[\u001b[38;5;124m\"\u001b[39m\u001b[38;5;124mhas_index_names\u001b[39m\u001b[38;5;124m\"\u001b[39m] \u001b[38;5;241m=\u001b[39m kwds[\u001b[38;5;124m\"\u001b[39m\u001b[38;5;124mhas_index_names\u001b[39m\u001b[38;5;124m\"\u001b[39m]\n\u001b[1;32m   1619\u001b[0m \u001b[38;5;28mself\u001b[39m\u001b[38;5;241m.\u001b[39mhandles: IOHandles \u001b[38;5;241m|\u001b[39m \u001b[38;5;28;01mNone\u001b[39;00m \u001b[38;5;241m=\u001b[39m \u001b[38;5;28;01mNone\u001b[39;00m\n\u001b[0;32m-> 1620\u001b[0m \u001b[38;5;28mself\u001b[39m\u001b[38;5;241m.\u001b[39m_engine \u001b[38;5;241m=\u001b[39m \u001b[38;5;28;43mself\u001b[39;49m\u001b[38;5;241;43m.\u001b[39;49m\u001b[43m_make_engine\u001b[49m\u001b[43m(\u001b[49m\u001b[43mf\u001b[49m\u001b[43m,\u001b[49m\u001b[43m \u001b[49m\u001b[38;5;28;43mself\u001b[39;49m\u001b[38;5;241;43m.\u001b[39;49m\u001b[43mengine\u001b[49m\u001b[43m)\u001b[49m\n",
      "File \u001b[0;32m~/RetirementEngine/.venv/lib/python3.10/site-packages/pandas/io/parsers/readers.py:1880\u001b[0m, in \u001b[0;36mTextFileReader._make_engine\u001b[0;34m(self, f, engine)\u001b[0m\n\u001b[1;32m   1878\u001b[0m     \u001b[38;5;28;01mif\u001b[39;00m \u001b[38;5;124m\"\u001b[39m\u001b[38;5;124mb\u001b[39m\u001b[38;5;124m\"\u001b[39m \u001b[38;5;129;01mnot\u001b[39;00m \u001b[38;5;129;01min\u001b[39;00m mode:\n\u001b[1;32m   1879\u001b[0m         mode \u001b[38;5;241m+\u001b[39m\u001b[38;5;241m=\u001b[39m \u001b[38;5;124m\"\u001b[39m\u001b[38;5;124mb\u001b[39m\u001b[38;5;124m\"\u001b[39m\n\u001b[0;32m-> 1880\u001b[0m \u001b[38;5;28mself\u001b[39m\u001b[38;5;241m.\u001b[39mhandles \u001b[38;5;241m=\u001b[39m \u001b[43mget_handle\u001b[49m\u001b[43m(\u001b[49m\n\u001b[1;32m   1881\u001b[0m \u001b[43m    \u001b[49m\u001b[43mf\u001b[49m\u001b[43m,\u001b[49m\n\u001b[1;32m   1882\u001b[0m \u001b[43m    \u001b[49m\u001b[43mmode\u001b[49m\u001b[43m,\u001b[49m\n\u001b[1;32m   1883\u001b[0m \u001b[43m    \u001b[49m\u001b[43mencoding\u001b[49m\u001b[38;5;241;43m=\u001b[39;49m\u001b[38;5;28;43mself\u001b[39;49m\u001b[38;5;241;43m.\u001b[39;49m\u001b[43moptions\u001b[49m\u001b[38;5;241;43m.\u001b[39;49m\u001b[43mget\u001b[49m\u001b[43m(\u001b[49m\u001b[38;5;124;43m\"\u001b[39;49m\u001b[38;5;124;43mencoding\u001b[39;49m\u001b[38;5;124;43m\"\u001b[39;49m\u001b[43m,\u001b[49m\u001b[43m \u001b[49m\u001b[38;5;28;43;01mNone\u001b[39;49;00m\u001b[43m)\u001b[49m\u001b[43m,\u001b[49m\n\u001b[1;32m   1884\u001b[0m \u001b[43m    \u001b[49m\u001b[43mcompression\u001b[49m\u001b[38;5;241;43m=\u001b[39;49m\u001b[38;5;28;43mself\u001b[39;49m\u001b[38;5;241;43m.\u001b[39;49m\u001b[43moptions\u001b[49m\u001b[38;5;241;43m.\u001b[39;49m\u001b[43mget\u001b[49m\u001b[43m(\u001b[49m\u001b[38;5;124;43m\"\u001b[39;49m\u001b[38;5;124;43mcompression\u001b[39;49m\u001b[38;5;124;43m\"\u001b[39;49m\u001b[43m,\u001b[49m\u001b[43m \u001b[49m\u001b[38;5;28;43;01mNone\u001b[39;49;00m\u001b[43m)\u001b[49m\u001b[43m,\u001b[49m\n\u001b[1;32m   1885\u001b[0m \u001b[43m    \u001b[49m\u001b[43mmemory_map\u001b[49m\u001b[38;5;241;43m=\u001b[39;49m\u001b[38;5;28;43mself\u001b[39;49m\u001b[38;5;241;43m.\u001b[39;49m\u001b[43moptions\u001b[49m\u001b[38;5;241;43m.\u001b[39;49m\u001b[43mget\u001b[49m\u001b[43m(\u001b[49m\u001b[38;5;124;43m\"\u001b[39;49m\u001b[38;5;124;43mmemory_map\u001b[39;49m\u001b[38;5;124;43m\"\u001b[39;49m\u001b[43m,\u001b[49m\u001b[43m \u001b[49m\u001b[38;5;28;43;01mFalse\u001b[39;49;00m\u001b[43m)\u001b[49m\u001b[43m,\u001b[49m\n\u001b[1;32m   1886\u001b[0m \u001b[43m    \u001b[49m\u001b[43mis_text\u001b[49m\u001b[38;5;241;43m=\u001b[39;49m\u001b[43mis_text\u001b[49m\u001b[43m,\u001b[49m\n\u001b[1;32m   1887\u001b[0m \u001b[43m    \u001b[49m\u001b[43merrors\u001b[49m\u001b[38;5;241;43m=\u001b[39;49m\u001b[38;5;28;43mself\u001b[39;49m\u001b[38;5;241;43m.\u001b[39;49m\u001b[43moptions\u001b[49m\u001b[38;5;241;43m.\u001b[39;49m\u001b[43mget\u001b[49m\u001b[43m(\u001b[49m\u001b[38;5;124;43m\"\u001b[39;49m\u001b[38;5;124;43mencoding_errors\u001b[39;49m\u001b[38;5;124;43m\"\u001b[39;49m\u001b[43m,\u001b[49m\u001b[43m \u001b[49m\u001b[38;5;124;43m\"\u001b[39;49m\u001b[38;5;124;43mstrict\u001b[39;49m\u001b[38;5;124;43m\"\u001b[39;49m\u001b[43m)\u001b[49m\u001b[43m,\u001b[49m\n\u001b[1;32m   1888\u001b[0m \u001b[43m    \u001b[49m\u001b[43mstorage_options\u001b[49m\u001b[38;5;241;43m=\u001b[39;49m\u001b[38;5;28;43mself\u001b[39;49m\u001b[38;5;241;43m.\u001b[39;49m\u001b[43moptions\u001b[49m\u001b[38;5;241;43m.\u001b[39;49m\u001b[43mget\u001b[49m\u001b[43m(\u001b[49m\u001b[38;5;124;43m\"\u001b[39;49m\u001b[38;5;124;43mstorage_options\u001b[39;49m\u001b[38;5;124;43m\"\u001b[39;49m\u001b[43m,\u001b[49m\u001b[43m \u001b[49m\u001b[38;5;28;43;01mNone\u001b[39;49;00m\u001b[43m)\u001b[49m\u001b[43m,\u001b[49m\n\u001b[1;32m   1889\u001b[0m \u001b[43m\u001b[49m\u001b[43m)\u001b[49m\n\u001b[1;32m   1890\u001b[0m \u001b[38;5;28;01massert\u001b[39;00m \u001b[38;5;28mself\u001b[39m\u001b[38;5;241m.\u001b[39mhandles \u001b[38;5;129;01mis\u001b[39;00m \u001b[38;5;129;01mnot\u001b[39;00m \u001b[38;5;28;01mNone\u001b[39;00m\n\u001b[1;32m   1891\u001b[0m f \u001b[38;5;241m=\u001b[39m \u001b[38;5;28mself\u001b[39m\u001b[38;5;241m.\u001b[39mhandles\u001b[38;5;241m.\u001b[39mhandle\n",
      "File \u001b[0;32m~/RetirementEngine/.venv/lib/python3.10/site-packages/pandas/io/common.py:873\u001b[0m, in \u001b[0;36mget_handle\u001b[0;34m(path_or_buf, mode, encoding, compression, memory_map, is_text, errors, storage_options)\u001b[0m\n\u001b[1;32m    868\u001b[0m \u001b[38;5;28;01melif\u001b[39;00m \u001b[38;5;28misinstance\u001b[39m(handle, \u001b[38;5;28mstr\u001b[39m):\n\u001b[1;32m    869\u001b[0m     \u001b[38;5;66;03m# Check whether the filename is to be opened in binary mode.\u001b[39;00m\n\u001b[1;32m    870\u001b[0m     \u001b[38;5;66;03m# Binary mode does not support 'encoding' and 'newline'.\u001b[39;00m\n\u001b[1;32m    871\u001b[0m     \u001b[38;5;28;01mif\u001b[39;00m ioargs\u001b[38;5;241m.\u001b[39mencoding \u001b[38;5;129;01mand\u001b[39;00m \u001b[38;5;124m\"\u001b[39m\u001b[38;5;124mb\u001b[39m\u001b[38;5;124m\"\u001b[39m \u001b[38;5;129;01mnot\u001b[39;00m \u001b[38;5;129;01min\u001b[39;00m ioargs\u001b[38;5;241m.\u001b[39mmode:\n\u001b[1;32m    872\u001b[0m         \u001b[38;5;66;03m# Encoding\u001b[39;00m\n\u001b[0;32m--> 873\u001b[0m         handle \u001b[38;5;241m=\u001b[39m \u001b[38;5;28;43mopen\u001b[39;49m\u001b[43m(\u001b[49m\n\u001b[1;32m    874\u001b[0m \u001b[43m            \u001b[49m\u001b[43mhandle\u001b[49m\u001b[43m,\u001b[49m\n\u001b[1;32m    875\u001b[0m \u001b[43m            \u001b[49m\u001b[43mioargs\u001b[49m\u001b[38;5;241;43m.\u001b[39;49m\u001b[43mmode\u001b[49m\u001b[43m,\u001b[49m\n\u001b[1;32m    876\u001b[0m \u001b[43m            \u001b[49m\u001b[43mencoding\u001b[49m\u001b[38;5;241;43m=\u001b[39;49m\u001b[43mioargs\u001b[49m\u001b[38;5;241;43m.\u001b[39;49m\u001b[43mencoding\u001b[49m\u001b[43m,\u001b[49m\n\u001b[1;32m    877\u001b[0m \u001b[43m            \u001b[49m\u001b[43merrors\u001b[49m\u001b[38;5;241;43m=\u001b[39;49m\u001b[43merrors\u001b[49m\u001b[43m,\u001b[49m\n\u001b[1;32m    878\u001b[0m \u001b[43m            \u001b[49m\u001b[43mnewline\u001b[49m\u001b[38;5;241;43m=\u001b[39;49m\u001b[38;5;124;43m\"\u001b[39;49m\u001b[38;5;124;43m\"\u001b[39;49m\u001b[43m,\u001b[49m\n\u001b[1;32m    879\u001b[0m \u001b[43m        \u001b[49m\u001b[43m)\u001b[49m\n\u001b[1;32m    880\u001b[0m     \u001b[38;5;28;01melse\u001b[39;00m:\n\u001b[1;32m    881\u001b[0m         \u001b[38;5;66;03m# Binary mode\u001b[39;00m\n\u001b[1;32m    882\u001b[0m         handle \u001b[38;5;241m=\u001b[39m \u001b[38;5;28mopen\u001b[39m(handle, ioargs\u001b[38;5;241m.\u001b[39mmode)\n",
      "\u001b[0;31mFileNotFoundError\u001b[0m: [Errno 2] No such file or directory: 'data/etf_prices.csv'"
     ]
    }
   ],
   "source": [
    "prices_df = pd.read_csv(\"data/etf_prices.csv\", index_col=0, parse_dates=True)\n",
    "prices_df = prices_df.sort_index()\n"
   ]
  },
  {
   "cell_type": "code",
   "execution_count": 26,
   "id": "e72eb558-7b39-4ef9-af55-e2d73bfd6977",
   "metadata": {},
   "outputs": [
    {
     "ename": "FileNotFoundError",
     "evalue": "[Errno 2] No such file or directory: 'data/etf_prices.csv'",
     "output_type": "error",
     "traceback": [
      "\u001b[0;31m---------------------------------------------------------------------------\u001b[0m",
      "\u001b[0;31mFileNotFoundError\u001b[0m                         Traceback (most recent call last)",
      "Cell \u001b[0;32mIn[26], line 1\u001b[0m\n\u001b[0;32m----> 1\u001b[0m prices_df \u001b[38;5;241m=\u001b[39m \u001b[43mpd\u001b[49m\u001b[38;5;241;43m.\u001b[39;49m\u001b[43mread_csv\u001b[49m\u001b[43m(\u001b[49m\u001b[38;5;124;43m\"\u001b[39;49m\u001b[38;5;124;43mdata/etf_prices.csv\u001b[39;49m\u001b[38;5;124;43m\"\u001b[39;49m\u001b[43m,\u001b[49m\u001b[43m \u001b[49m\u001b[43mindex_col\u001b[49m\u001b[38;5;241;43m=\u001b[39;49m\u001b[38;5;124;43m\"\u001b[39;49m\u001b[38;5;124;43mdate\u001b[39;49m\u001b[38;5;124;43m\"\u001b[39;49m\u001b[43m,\u001b[49m\u001b[43m \u001b[49m\u001b[43mparse_dates\u001b[49m\u001b[38;5;241;43m=\u001b[39;49m\u001b[38;5;28;43;01mTrue\u001b[39;49;00m\u001b[43m)\u001b[49m\n\u001b[1;32m      2\u001b[0m prices_df \u001b[38;5;241m=\u001b[39m prices_df\u001b[38;5;241m.\u001b[39msort_index()\n\u001b[1;32m      3\u001b[0m returns_df \u001b[38;5;241m=\u001b[39m prices_df\u001b[38;5;241m.\u001b[39mpct_change()\u001b[38;5;241m.\u001b[39mdropna()\n",
      "File \u001b[0;32m~/RetirementEngine/.venv/lib/python3.10/site-packages/pandas/io/parsers/readers.py:1026\u001b[0m, in \u001b[0;36mread_csv\u001b[0;34m(filepath_or_buffer, sep, delimiter, header, names, index_col, usecols, dtype, engine, converters, true_values, false_values, skipinitialspace, skiprows, skipfooter, nrows, na_values, keep_default_na, na_filter, verbose, skip_blank_lines, parse_dates, infer_datetime_format, keep_date_col, date_parser, date_format, dayfirst, cache_dates, iterator, chunksize, compression, thousands, decimal, lineterminator, quotechar, quoting, doublequote, escapechar, comment, encoding, encoding_errors, dialect, on_bad_lines, delim_whitespace, low_memory, memory_map, float_precision, storage_options, dtype_backend)\u001b[0m\n\u001b[1;32m   1013\u001b[0m kwds_defaults \u001b[38;5;241m=\u001b[39m _refine_defaults_read(\n\u001b[1;32m   1014\u001b[0m     dialect,\n\u001b[1;32m   1015\u001b[0m     delimiter,\n\u001b[0;32m   (...)\u001b[0m\n\u001b[1;32m   1022\u001b[0m     dtype_backend\u001b[38;5;241m=\u001b[39mdtype_backend,\n\u001b[1;32m   1023\u001b[0m )\n\u001b[1;32m   1024\u001b[0m kwds\u001b[38;5;241m.\u001b[39mupdate(kwds_defaults)\n\u001b[0;32m-> 1026\u001b[0m \u001b[38;5;28;01mreturn\u001b[39;00m \u001b[43m_read\u001b[49m\u001b[43m(\u001b[49m\u001b[43mfilepath_or_buffer\u001b[49m\u001b[43m,\u001b[49m\u001b[43m \u001b[49m\u001b[43mkwds\u001b[49m\u001b[43m)\u001b[49m\n",
      "File \u001b[0;32m~/RetirementEngine/.venv/lib/python3.10/site-packages/pandas/io/parsers/readers.py:620\u001b[0m, in \u001b[0;36m_read\u001b[0;34m(filepath_or_buffer, kwds)\u001b[0m\n\u001b[1;32m    617\u001b[0m _validate_names(kwds\u001b[38;5;241m.\u001b[39mget(\u001b[38;5;124m\"\u001b[39m\u001b[38;5;124mnames\u001b[39m\u001b[38;5;124m\"\u001b[39m, \u001b[38;5;28;01mNone\u001b[39;00m))\n\u001b[1;32m    619\u001b[0m \u001b[38;5;66;03m# Create the parser.\u001b[39;00m\n\u001b[0;32m--> 620\u001b[0m parser \u001b[38;5;241m=\u001b[39m \u001b[43mTextFileReader\u001b[49m\u001b[43m(\u001b[49m\u001b[43mfilepath_or_buffer\u001b[49m\u001b[43m,\u001b[49m\u001b[43m \u001b[49m\u001b[38;5;241;43m*\u001b[39;49m\u001b[38;5;241;43m*\u001b[39;49m\u001b[43mkwds\u001b[49m\u001b[43m)\u001b[49m\n\u001b[1;32m    622\u001b[0m \u001b[38;5;28;01mif\u001b[39;00m chunksize \u001b[38;5;129;01mor\u001b[39;00m iterator:\n\u001b[1;32m    623\u001b[0m     \u001b[38;5;28;01mreturn\u001b[39;00m parser\n",
      "File \u001b[0;32m~/RetirementEngine/.venv/lib/python3.10/site-packages/pandas/io/parsers/readers.py:1620\u001b[0m, in \u001b[0;36mTextFileReader.__init__\u001b[0;34m(self, f, engine, **kwds)\u001b[0m\n\u001b[1;32m   1617\u001b[0m     \u001b[38;5;28mself\u001b[39m\u001b[38;5;241m.\u001b[39moptions[\u001b[38;5;124m\"\u001b[39m\u001b[38;5;124mhas_index_names\u001b[39m\u001b[38;5;124m\"\u001b[39m] \u001b[38;5;241m=\u001b[39m kwds[\u001b[38;5;124m\"\u001b[39m\u001b[38;5;124mhas_index_names\u001b[39m\u001b[38;5;124m\"\u001b[39m]\n\u001b[1;32m   1619\u001b[0m \u001b[38;5;28mself\u001b[39m\u001b[38;5;241m.\u001b[39mhandles: IOHandles \u001b[38;5;241m|\u001b[39m \u001b[38;5;28;01mNone\u001b[39;00m \u001b[38;5;241m=\u001b[39m \u001b[38;5;28;01mNone\u001b[39;00m\n\u001b[0;32m-> 1620\u001b[0m \u001b[38;5;28mself\u001b[39m\u001b[38;5;241m.\u001b[39m_engine \u001b[38;5;241m=\u001b[39m \u001b[38;5;28;43mself\u001b[39;49m\u001b[38;5;241;43m.\u001b[39;49m\u001b[43m_make_engine\u001b[49m\u001b[43m(\u001b[49m\u001b[43mf\u001b[49m\u001b[43m,\u001b[49m\u001b[43m \u001b[49m\u001b[38;5;28;43mself\u001b[39;49m\u001b[38;5;241;43m.\u001b[39;49m\u001b[43mengine\u001b[49m\u001b[43m)\u001b[49m\n",
      "File \u001b[0;32m~/RetirementEngine/.venv/lib/python3.10/site-packages/pandas/io/parsers/readers.py:1880\u001b[0m, in \u001b[0;36mTextFileReader._make_engine\u001b[0;34m(self, f, engine)\u001b[0m\n\u001b[1;32m   1878\u001b[0m     \u001b[38;5;28;01mif\u001b[39;00m \u001b[38;5;124m\"\u001b[39m\u001b[38;5;124mb\u001b[39m\u001b[38;5;124m\"\u001b[39m \u001b[38;5;129;01mnot\u001b[39;00m \u001b[38;5;129;01min\u001b[39;00m mode:\n\u001b[1;32m   1879\u001b[0m         mode \u001b[38;5;241m+\u001b[39m\u001b[38;5;241m=\u001b[39m \u001b[38;5;124m\"\u001b[39m\u001b[38;5;124mb\u001b[39m\u001b[38;5;124m\"\u001b[39m\n\u001b[0;32m-> 1880\u001b[0m \u001b[38;5;28mself\u001b[39m\u001b[38;5;241m.\u001b[39mhandles \u001b[38;5;241m=\u001b[39m \u001b[43mget_handle\u001b[49m\u001b[43m(\u001b[49m\n\u001b[1;32m   1881\u001b[0m \u001b[43m    \u001b[49m\u001b[43mf\u001b[49m\u001b[43m,\u001b[49m\n\u001b[1;32m   1882\u001b[0m \u001b[43m    \u001b[49m\u001b[43mmode\u001b[49m\u001b[43m,\u001b[49m\n\u001b[1;32m   1883\u001b[0m \u001b[43m    \u001b[49m\u001b[43mencoding\u001b[49m\u001b[38;5;241;43m=\u001b[39;49m\u001b[38;5;28;43mself\u001b[39;49m\u001b[38;5;241;43m.\u001b[39;49m\u001b[43moptions\u001b[49m\u001b[38;5;241;43m.\u001b[39;49m\u001b[43mget\u001b[49m\u001b[43m(\u001b[49m\u001b[38;5;124;43m\"\u001b[39;49m\u001b[38;5;124;43mencoding\u001b[39;49m\u001b[38;5;124;43m\"\u001b[39;49m\u001b[43m,\u001b[49m\u001b[43m \u001b[49m\u001b[38;5;28;43;01mNone\u001b[39;49;00m\u001b[43m)\u001b[49m\u001b[43m,\u001b[49m\n\u001b[1;32m   1884\u001b[0m \u001b[43m    \u001b[49m\u001b[43mcompression\u001b[49m\u001b[38;5;241;43m=\u001b[39;49m\u001b[38;5;28;43mself\u001b[39;49m\u001b[38;5;241;43m.\u001b[39;49m\u001b[43moptions\u001b[49m\u001b[38;5;241;43m.\u001b[39;49m\u001b[43mget\u001b[49m\u001b[43m(\u001b[49m\u001b[38;5;124;43m\"\u001b[39;49m\u001b[38;5;124;43mcompression\u001b[39;49m\u001b[38;5;124;43m\"\u001b[39;49m\u001b[43m,\u001b[49m\u001b[43m \u001b[49m\u001b[38;5;28;43;01mNone\u001b[39;49;00m\u001b[43m)\u001b[49m\u001b[43m,\u001b[49m\n\u001b[1;32m   1885\u001b[0m \u001b[43m    \u001b[49m\u001b[43mmemory_map\u001b[49m\u001b[38;5;241;43m=\u001b[39;49m\u001b[38;5;28;43mself\u001b[39;49m\u001b[38;5;241;43m.\u001b[39;49m\u001b[43moptions\u001b[49m\u001b[38;5;241;43m.\u001b[39;49m\u001b[43mget\u001b[49m\u001b[43m(\u001b[49m\u001b[38;5;124;43m\"\u001b[39;49m\u001b[38;5;124;43mmemory_map\u001b[39;49m\u001b[38;5;124;43m\"\u001b[39;49m\u001b[43m,\u001b[49m\u001b[43m \u001b[49m\u001b[38;5;28;43;01mFalse\u001b[39;49;00m\u001b[43m)\u001b[49m\u001b[43m,\u001b[49m\n\u001b[1;32m   1886\u001b[0m \u001b[43m    \u001b[49m\u001b[43mis_text\u001b[49m\u001b[38;5;241;43m=\u001b[39;49m\u001b[43mis_text\u001b[49m\u001b[43m,\u001b[49m\n\u001b[1;32m   1887\u001b[0m \u001b[43m    \u001b[49m\u001b[43merrors\u001b[49m\u001b[38;5;241;43m=\u001b[39;49m\u001b[38;5;28;43mself\u001b[39;49m\u001b[38;5;241;43m.\u001b[39;49m\u001b[43moptions\u001b[49m\u001b[38;5;241;43m.\u001b[39;49m\u001b[43mget\u001b[49m\u001b[43m(\u001b[49m\u001b[38;5;124;43m\"\u001b[39;49m\u001b[38;5;124;43mencoding_errors\u001b[39;49m\u001b[38;5;124;43m\"\u001b[39;49m\u001b[43m,\u001b[49m\u001b[43m \u001b[49m\u001b[38;5;124;43m\"\u001b[39;49m\u001b[38;5;124;43mstrict\u001b[39;49m\u001b[38;5;124;43m\"\u001b[39;49m\u001b[43m)\u001b[49m\u001b[43m,\u001b[49m\n\u001b[1;32m   1888\u001b[0m \u001b[43m    \u001b[49m\u001b[43mstorage_options\u001b[49m\u001b[38;5;241;43m=\u001b[39;49m\u001b[38;5;28;43mself\u001b[39;49m\u001b[38;5;241;43m.\u001b[39;49m\u001b[43moptions\u001b[49m\u001b[38;5;241;43m.\u001b[39;49m\u001b[43mget\u001b[49m\u001b[43m(\u001b[49m\u001b[38;5;124;43m\"\u001b[39;49m\u001b[38;5;124;43mstorage_options\u001b[39;49m\u001b[38;5;124;43m\"\u001b[39;49m\u001b[43m,\u001b[49m\u001b[43m \u001b[49m\u001b[38;5;28;43;01mNone\u001b[39;49;00m\u001b[43m)\u001b[49m\u001b[43m,\u001b[49m\n\u001b[1;32m   1889\u001b[0m \u001b[43m\u001b[49m\u001b[43m)\u001b[49m\n\u001b[1;32m   1890\u001b[0m \u001b[38;5;28;01massert\u001b[39;00m \u001b[38;5;28mself\u001b[39m\u001b[38;5;241m.\u001b[39mhandles \u001b[38;5;129;01mis\u001b[39;00m \u001b[38;5;129;01mnot\u001b[39;00m \u001b[38;5;28;01mNone\u001b[39;00m\n\u001b[1;32m   1891\u001b[0m f \u001b[38;5;241m=\u001b[39m \u001b[38;5;28mself\u001b[39m\u001b[38;5;241m.\u001b[39mhandles\u001b[38;5;241m.\u001b[39mhandle\n",
      "File \u001b[0;32m~/RetirementEngine/.venv/lib/python3.10/site-packages/pandas/io/common.py:873\u001b[0m, in \u001b[0;36mget_handle\u001b[0;34m(path_or_buf, mode, encoding, compression, memory_map, is_text, errors, storage_options)\u001b[0m\n\u001b[1;32m    868\u001b[0m \u001b[38;5;28;01melif\u001b[39;00m \u001b[38;5;28misinstance\u001b[39m(handle, \u001b[38;5;28mstr\u001b[39m):\n\u001b[1;32m    869\u001b[0m     \u001b[38;5;66;03m# Check whether the filename is to be opened in binary mode.\u001b[39;00m\n\u001b[1;32m    870\u001b[0m     \u001b[38;5;66;03m# Binary mode does not support 'encoding' and 'newline'.\u001b[39;00m\n\u001b[1;32m    871\u001b[0m     \u001b[38;5;28;01mif\u001b[39;00m ioargs\u001b[38;5;241m.\u001b[39mencoding \u001b[38;5;129;01mand\u001b[39;00m \u001b[38;5;124m\"\u001b[39m\u001b[38;5;124mb\u001b[39m\u001b[38;5;124m\"\u001b[39m \u001b[38;5;129;01mnot\u001b[39;00m \u001b[38;5;129;01min\u001b[39;00m ioargs\u001b[38;5;241m.\u001b[39mmode:\n\u001b[1;32m    872\u001b[0m         \u001b[38;5;66;03m# Encoding\u001b[39;00m\n\u001b[0;32m--> 873\u001b[0m         handle \u001b[38;5;241m=\u001b[39m \u001b[38;5;28;43mopen\u001b[39;49m\u001b[43m(\u001b[49m\n\u001b[1;32m    874\u001b[0m \u001b[43m            \u001b[49m\u001b[43mhandle\u001b[49m\u001b[43m,\u001b[49m\n\u001b[1;32m    875\u001b[0m \u001b[43m            \u001b[49m\u001b[43mioargs\u001b[49m\u001b[38;5;241;43m.\u001b[39;49m\u001b[43mmode\u001b[49m\u001b[43m,\u001b[49m\n\u001b[1;32m    876\u001b[0m \u001b[43m            \u001b[49m\u001b[43mencoding\u001b[49m\u001b[38;5;241;43m=\u001b[39;49m\u001b[43mioargs\u001b[49m\u001b[38;5;241;43m.\u001b[39;49m\u001b[43mencoding\u001b[49m\u001b[43m,\u001b[49m\n\u001b[1;32m    877\u001b[0m \u001b[43m            \u001b[49m\u001b[43merrors\u001b[49m\u001b[38;5;241;43m=\u001b[39;49m\u001b[43merrors\u001b[49m\u001b[43m,\u001b[49m\n\u001b[1;32m    878\u001b[0m \u001b[43m            \u001b[49m\u001b[43mnewline\u001b[49m\u001b[38;5;241;43m=\u001b[39;49m\u001b[38;5;124;43m\"\u001b[39;49m\u001b[38;5;124;43m\"\u001b[39;49m\u001b[43m,\u001b[49m\n\u001b[1;32m    879\u001b[0m \u001b[43m        \u001b[49m\u001b[43m)\u001b[49m\n\u001b[1;32m    880\u001b[0m     \u001b[38;5;28;01melse\u001b[39;00m:\n\u001b[1;32m    881\u001b[0m         \u001b[38;5;66;03m# Binary mode\u001b[39;00m\n\u001b[1;32m    882\u001b[0m         handle \u001b[38;5;241m=\u001b[39m \u001b[38;5;28mopen\u001b[39m(handle, ioargs\u001b[38;5;241m.\u001b[39mmode)\n",
      "\u001b[0;31mFileNotFoundError\u001b[0m: [Errno 2] No such file or directory: 'data/etf_prices.csv'"
     ]
    }
   ],
   "source": [
    "prices_df = pd.read_csv(\"data/etf_prices.csv\", index_col=\"date\", parse_dates=True)\n",
    "prices_df = prices_df.sort_index()\n",
    "returns_df = prices_df.pct_change().dropna()\n"
   ]
  },
  {
   "cell_type": "code",
   "execution_count": 27,
   "id": "5c891981-f712-48d7-89e9-55d9e4b35ea5",
   "metadata": {},
   "outputs": [
    {
     "data": {
      "text/plain": [
       "'/mnt/c/Users/JohnFriedrich/OneDrive/Scripts/Python/RetirementEngine/src'"
      ]
     },
     "execution_count": 27,
     "metadata": {},
     "output_type": "execute_result"
    }
   ],
   "source": [
    "import os\n",
    "os.getcwd()"
   ]
  },
  {
   "cell_type": "code",
   "execution_count": 28,
   "id": "1802848b-cf61-480e-a120-eaf46fdf1169",
   "metadata": {},
   "outputs": [
    {
     "name": "stdout",
     "output_type": "stream",
     "text": [
      "/mnt/c/Users/JohnFriedrich/OneDrive/Scripts/Python/RetirementEngine\n"
     ]
    },
    {
     "name": "stderr",
     "output_type": "stream",
     "text": [
      "/home/abqjuan/RetirementEngine/.venv/lib/python3.10/site-packages/IPython/core/magics/osm.py:417: UserWarning: This is now an optional IPython functionality, setting dhist requires you to install the `pickleshare` library.\n",
      "  self.shell.db['dhist'] = compress_dhist(dhist)[-100:]\n"
     ]
    }
   ],
   "source": [
    "cd .."
   ]
  },
  {
   "cell_type": "code",
   "execution_count": 29,
   "id": "fdbf2ad6-8fde-44f6-928a-5d78ea6e23aa",
   "metadata": {},
   "outputs": [
    {
     "data": {
      "text/plain": [
       "'/mnt/c/Users/JohnFriedrich/OneDrive/Scripts/Python/RetirementEngine'"
      ]
     },
     "execution_count": 29,
     "metadata": {},
     "output_type": "execute_result"
    }
   ],
   "source": [
    "os.getcwd()"
   ]
  },
  {
   "cell_type": "code",
   "execution_count": 30,
   "id": "8e883037-e1e9-4a08-9a81-113a88c4f6ae",
   "metadata": {},
   "outputs": [],
   "source": [
    "prices_df = pd.read_csv(\"data/etf_prices.csv\", index_col=\"date\", parse_dates=True)"
   ]
  },
  {
   "cell_type": "code",
   "execution_count": 31,
   "id": "77038993-a4f4-4b4a-b4c0-1dd3b24b0e74",
   "metadata": {},
   "outputs": [],
   "source": [
    "prices_df = prices_df.sort_index()\n",
    "returns_df = prices_df.pct_change().dropna()"
   ]
  },
  {
   "cell_type": "code",
   "execution_count": 32,
   "id": "b44a5425-9ffa-4085-b892-fcac50ce284e",
   "metadata": {},
   "outputs": [],
   "source": [
    "regimes_df = pd.read_csv(\"data/macro_regimes.csv\", index_col=0, parse_dates=True)\n",
    "regime_series = regimes_df.resample(\"D\").ffill()\n",
    "regime_series = regime_series.reindex(returns_df.index)"
   ]
  },
  {
   "cell_type": "code",
   "execution_count": 33,
   "id": "de9353f9-fb21-48cb-8506-a48924225f05",
   "metadata": {},
   "outputs": [
    {
     "name": "stdout",
     "output_type": "stream",
     "text": [
      "(3710, 3)\n",
      "(3710, 32)\n",
      "True\n"
     ]
    }
   ],
   "source": [
    "print(returns_df.shape)\n",
    "print(regime_series.shape)\n",
    "print(returns_df.index.equals(regime_series.index))  # Should be True"
   ]
  },
  {
   "cell_type": "code",
   "execution_count": 34,
   "id": "e5b2c509-579b-4012-84bc-0c7219d0b214",
   "metadata": {},
   "outputs": [],
   "source": [
    "mean_matrix = pd.DataFrame({\n",
    "    \"SP500\": [0.000372, 0.000491],\n",
    "    \"VIX\":   [0.027570, 0.003028],\n",
    "    \"10Y\":   [-0.001404, 0.000012]\n",
    "}, index=[\"Expansion\", \"Recession\"])"
   ]
  },
  {
   "cell_type": "code",
   "execution_count": 35,
   "id": "03b38948-34bd-41aa-8500-9c0bf4608bd7",
   "metadata": {},
   "outputs": [],
   "source": [
    "portfolio_weights = {\n",
    "    \"Expansion\": {\"SP500\": 0.6, \"VIX\": 0.2, \"10Y\": 0.2},\n",
    "    \"Recession\": {\"SP500\": 0.3, \"VIX\": 0.4, \"10Y\": 0.3}\n",
    "}"
   ]
  },
  {
   "cell_type": "code",
   "execution_count": 36,
   "id": "14581a3f-71e7-4e76-bfa4-bc2f74da48ee",
   "metadata": {},
   "outputs": [],
   "source": [
    "expected_returns = {\n",
    "    regime: sum(mean_matrix.loc[regime][ticker] * weight\n",
    "                for ticker, weight in weights.items())\n",
    "    for regime, weights in portfolio_weights.items()\n",
    "}"
   ]
  },
  {
   "cell_type": "code",
   "execution_count": 37,
   "id": "f42f7f1e-26a6-40d4-8520-d317787bf81e",
   "metadata": {},
   "outputs": [
    {
     "ename": "TypeError",
     "evalue": "the first argument must be callable",
     "output_type": "error",
     "traceback": [
      "\u001b[0;31m---------------------------------------------------------------------------\u001b[0m",
      "\u001b[0;31mTypeError\u001b[0m                                 Traceback (most recent call last)",
      "\u001b[0;32m/tmp/ipykernel_2157/2594529335.py\u001b[0m in \u001b[0;36m?\u001b[0;34m()\u001b[0m\n\u001b[0;32m----> 1\u001b[0;31m \u001b[0mdaily_expected_returns\u001b[0m \u001b[0;34m=\u001b[0m \u001b[0mregime_series\u001b[0m\u001b[0;34m.\u001b[0m\u001b[0mmap\u001b[0m\u001b[0;34m(\u001b[0m\u001b[0mexpected_returns\u001b[0m\u001b[0;34m)\u001b[0m\u001b[0;34m\u001b[0m\u001b[0;34m\u001b[0m\u001b[0m\n\u001b[0m",
      "\u001b[0;32m~/RetirementEngine/.venv/lib/python3.10/site-packages/pandas/core/frame.py\u001b[0m in \u001b[0;36m?\u001b[0;34m(self, func, na_action, **kwargs)\u001b[0m\n\u001b[1;32m  10486\u001b[0m \u001b[0;34m\u001b[0m\u001b[0m\n\u001b[1;32m  10487\u001b[0m         \u001b[0;32mif\u001b[0m \u001b[0mself\u001b[0m\u001b[0;34m.\u001b[0m\u001b[0mempty\u001b[0m\u001b[0;34m:\u001b[0m\u001b[0;34m\u001b[0m\u001b[0;34m\u001b[0m\u001b[0m\n\u001b[1;32m  10488\u001b[0m             \u001b[0;32mreturn\u001b[0m \u001b[0mself\u001b[0m\u001b[0;34m.\u001b[0m\u001b[0mcopy\u001b[0m\u001b[0;34m(\u001b[0m\u001b[0;34m)\u001b[0m\u001b[0;34m\u001b[0m\u001b[0;34m\u001b[0m\u001b[0m\n\u001b[1;32m  10489\u001b[0m \u001b[0;34m\u001b[0m\u001b[0m\n\u001b[0;32m> 10490\u001b[0;31m         \u001b[0mfunc\u001b[0m \u001b[0;34m=\u001b[0m \u001b[0mfunctools\u001b[0m\u001b[0;34m.\u001b[0m\u001b[0mpartial\u001b[0m\u001b[0;34m(\u001b[0m\u001b[0mfunc\u001b[0m\u001b[0;34m,\u001b[0m \u001b[0;34m**\u001b[0m\u001b[0mkwargs\u001b[0m\u001b[0;34m)\u001b[0m\u001b[0;34m\u001b[0m\u001b[0;34m\u001b[0m\u001b[0m\n\u001b[0m\u001b[1;32m  10491\u001b[0m \u001b[0;34m\u001b[0m\u001b[0m\n\u001b[1;32m  10492\u001b[0m         \u001b[0;32mdef\u001b[0m \u001b[0minfer\u001b[0m\u001b[0;34m(\u001b[0m\u001b[0mx\u001b[0m\u001b[0;34m)\u001b[0m\u001b[0;34m:\u001b[0m\u001b[0;34m\u001b[0m\u001b[0;34m\u001b[0m\u001b[0m\n\u001b[1;32m  10493\u001b[0m             \u001b[0;32mreturn\u001b[0m \u001b[0mx\u001b[0m\u001b[0;34m.\u001b[0m\u001b[0m_map_values\u001b[0m\u001b[0;34m(\u001b[0m\u001b[0mfunc\u001b[0m\u001b[0;34m,\u001b[0m \u001b[0mna_action\u001b[0m\u001b[0;34m=\u001b[0m\u001b[0mna_action\u001b[0m\u001b[0;34m)\u001b[0m\u001b[0;34m\u001b[0m\u001b[0;34m\u001b[0m\u001b[0m\n",
      "\u001b[0;31mTypeError\u001b[0m: the first argument must be callable"
     ]
    }
   ],
   "source": [
    "daily_expected_returns = regime_series.map(expected_returns)"
   ]
  },
  {
   "cell_type": "code",
   "execution_count": 38,
   "id": "ccbc854f-c3a7-4b45-8d31-1c889d641f83",
   "metadata": {},
   "outputs": [
    {
     "data": {
      "text/plain": [
       "pandas.core.frame.DataFrame"
      ]
     },
     "execution_count": 38,
     "metadata": {},
     "output_type": "execute_result"
    }
   ],
   "source": [
    "type(regime_series)"
   ]
  },
  {
   "cell_type": "code",
   "execution_count": 39,
   "id": "28a4580d-0f4f-4b45-92ab-1c719c5c3891",
   "metadata": {},
   "outputs": [],
   "source": [
    "regime_series = regime_series.iloc[:, 0]"
   ]
  },
  {
   "cell_type": "code",
   "execution_count": 40,
   "id": "e1b73fe1-f684-43ca-bd12-a510ffd5a788",
   "metadata": {},
   "outputs": [],
   "source": [
    "daily_expected_returns = regime_series.map(expected_returns)"
   ]
  },
  {
   "cell_type": "code",
   "execution_count": 41,
   "id": "17b7e744-a88f-4cf8-81d0-2f3e27ca8ebb",
   "metadata": {},
   "outputs": [
    {
     "data": {
      "text/plain": [
       "<Axes: title={'center': 'Daily Expected Portfolio Return by Regime'}, xlabel='date'>"
      ]
     },
     "execution_count": 41,
     "metadata": {},
     "output_type": "execute_result"
    },
    {
     "data": {
      "image/png": "[encoded data removed]",
      "text/plain": [
       "<Figure size 640x480 with 1 Axes>"
      ]
     },
     "metadata": {},
     "output_type": "display_data"
    }
   ],
   "source": [
    "daily_expected_returns.plot(title=\"Daily Expected Portfolio Return by Regime\")"
   ]
  },
  {
   "cell_type": "code",
   "execution_count": 42,
   "id": "8c7fc79d-a73a-4030-8437-cc930cf00dba",
   "metadata": {},
   "outputs": [
    {
     "data": {
      "text/plain": [
       "array([      nan, 20917.867, 21111.6  , 21397.938, 21717.171, 21933.217,\n",
       "       21751.238, 19958.291, 21704.437, 22087.16 , 22680.693, 23425.91 ,\n",
       "       23982.379, 24813.6  , 25250.347, 25861.292, 26336.304, 26770.514,\n",
       "       27216.445, 27530.055, 28074.846, 28424.722, 28708.161, 29147.044,\n",
       "       29511.664, 29825.182, 30042.113, 30485.729])"
      ]
     },
     "execution_count": 42,
     "metadata": {},
     "output_type": "execute_result"
    }
   ],
   "source": [
    "regime_series.unique()"
   ]
  },
  {
   "cell_type": "code",
   "execution_count": 46,
   "id": "32dad6d8-6ae0-4d8d-8614-b0a206479d20",
   "metadata": {},
   "outputs": [
    {
     "ename": "NameError",
     "evalue": "name 'portfolio_values' is not defined",
     "output_type": "error",
     "traceback": [
      "\u001b[0;31m---------------------------------------------------------------------------\u001b[0m",
      "\u001b[0;31mNameError\u001b[0m                                 Traceback (most recent call last)",
      "Cell \u001b[0;32mIn[46], line 3\u001b[0m\n\u001b[1;32m      1\u001b[0m \u001b[38;5;28;01mimport\u001b[39;00m\u001b[38;5;250m \u001b[39m\u001b[38;5;21;01mmatplotlib\u001b[39;00m\u001b[38;5;21;01m.\u001b[39;00m\u001b[38;5;21;01mpyplot\u001b[39;00m\u001b[38;5;250m \u001b[39m\u001b[38;5;28;01mas\u001b[39;00m\u001b[38;5;250m \u001b[39m\u001b[38;5;21;01mplt\u001b[39;00m\n\u001b[0;32m----> 3\u001b[0m plt\u001b[38;5;241m.\u001b[39mplot(\u001b[43mportfolio_values\u001b[49m)\n\u001b[1;32m      4\u001b[0m plt\u001b[38;5;241m.\u001b[39mtitle(\u001b[38;5;124m\"\u001b[39m\u001b[38;5;124mSimulated Portfolio Value Over Time\u001b[39m\u001b[38;5;124m\"\u001b[39m)\n\u001b[1;32m      5\u001b[0m plt\u001b[38;5;241m.\u001b[39mxlabel(\u001b[38;5;124m\"\u001b[39m\u001b[38;5;124mTime Step\u001b[39m\u001b[38;5;124m\"\u001b[39m)\n",
      "\u001b[0;31mNameError\u001b[0m: name 'portfolio_values' is not defined"
     ]
    }
   ],
   "source": [
    "import matplotlib.pyplot as plt\n",
    "\n",
    "plt.plot(portfolio_values)\n",
    "plt.title(\"Simulated Portfolio Value Over Time\")\n",
    "plt.xlabel(\"Time Step\")\n",
    "plt.ylabel(\"Portfolio Value\")\n",
    "plt.grid(True)\n",
    "plt.show()"
   ]
  },
  {
   "cell_type": "code",
   "execution_count": null,
   "id": "d4f53aa8-da0e-4528-bc00-afd1bfebecd2",
   "metadata": {},
   "outputs": [],
   "source": []
  },
  {
   "cell_type": "code",
   "execution_count": 44,
   "id": "9c504a1c-7186-4848-b6c6-b91508dae121",
   "metadata": {},
   "outputs": [
    {
     "data": {
      "text/plain": [
       "np.int64(3710)"
      ]
     },
     "execution_count": 44,
     "metadata": {},
     "output_type": "execute_result"
    }
   ],
   "source": [
    "daily_expected_returns.head()\n",
    "daily_expected_returns.isna().sum()"
   ]
  },
  {
   "cell_type": "code",
   "execution_count": 45,
   "id": "0b835e9d-015c-4a47-8264-7a93495cd601",
   "metadata": {},
   "outputs": [
    {
     "data": {
      "text/plain": [
       "3710"
      ]
     },
     "execution_count": 45,
     "metadata": {},
     "output_type": "execute_result"
    }
   ],
   "source": [
    "type(np.int64(3710))         # <class 'numpy.int64'>\n",
    "int(np.int64(3710))          # Converts to native Python int"
   ]
  },
  {
   "cell_type": "code",
   "execution_count": 47,
   "id": "6644ca9c-53da-4607-b72c-2e9951e2f215",
   "metadata": {},
   "outputs": [],
   "source": [
    "initial_value = 20000\n",
    "portfolio_values = initial_value * (1 + daily_expected_returns).cumprod()"
   ]
  },
  {
   "cell_type": "code",
   "execution_count": 48,
   "id": "bc2286c3-a4a8-41b5-ae28-1413c7d2dadc",
   "metadata": {},
   "outputs": [
    {
     "data": {
      "image/png": "[encoded data removed]",
      "text/plain": [
       "<Figure size 1000x500 with 1 Axes>"
      ]
     },
     "metadata": {},
     "output_type": "display_data"
    }
   ],
   "source": [
    "import matplotlib.pyplot as plt\n",
    "\n",
    "plt.figure(figsize=(10, 5))\n",
    "plt.plot(portfolio_values)\n",
    "plt.title(\"Simulated Portfolio Value Over Time\")\n",
    "plt.xlabel(\"Date\")\n",
    "plt.ylabel(\"Portfolio Value ($)\")\n",
    "plt.grid(True)\n",
    "plt.show()"
   ]
  },
  {
   "cell_type": "code",
   "execution_count": 49,
   "id": "1a310301-dde3-45b2-96c4-d23799744510",
   "metadata": {},
   "outputs": [
    {
     "data": {
      "text/plain": [
       "np.int64(3710)"
      ]
     },
     "execution_count": 49,
     "metadata": {},
     "output_type": "execute_result"
    }
   ],
   "source": [
    "daily_expected_returns.head()\n",
    "daily_expected_returns.isna().sum()"
   ]
  },
  {
   "cell_type": "code",
   "execution_count": 50,
   "id": "037597b9-492a-44ec-ad5b-cd9a1952ecab",
   "metadata": {},
   "outputs": [],
   "source": [
    "initial_value = 20000\n",
    "portfolio_values = initial_value * (1 + daily_expected_returns.fillna(0)).cumprod()\n"
   ]
  },
  {
   "cell_type": "code",
   "execution_count": 51,
   "id": "229f1e7d-e3fe-4a70-b1f0-2d5a97b06cba",
   "metadata": {},
   "outputs": [
    {
     "data": {
      "image/png": "[encoded data removed]",
      "text/plain": [
       "<Figure size 1200x600 with 1 Axes>"
      ]
     },
     "metadata": {},
     "output_type": "display_data"
    }
   ],
   "source": [
    "plt.figure(figsize=(12, 6))\n",
    "plt.plot(portfolio_values)\n",
    "plt.title(\"Simulated Portfolio Value Over Time\")\n",
    "plt.xlabel(\"Date\")\n",
    "plt.ylabel(\"Portfolio Value ($)\")\n",
    "plt.grid(True)\n",
    "plt.show()\n"
   ]
  },
  {
   "cell_type": "code",
   "execution_count": 52,
   "id": "6569ca30-7ce8-420f-aeaa-f0fdc1826de6",
   "metadata": {},
   "outputs": [
    {
     "data": {
      "text/plain": [
       "Series([], Name: count, dtype: int64)"
      ]
     },
     "execution_count": 52,
     "metadata": {},
     "output_type": "execute_result"
    }
   ],
   "source": [
    "daily_expected_returns.describe()\n",
    "daily_expected_returns.value_counts().head()"
   ]
  },
  {
   "cell_type": "code",
   "execution_count": 53,
   "id": "246df5a7-01aa-403d-8147-b02638dd6ea1",
   "metadata": {},
   "outputs": [
    {
     "data": {
      "text/plain": [
       "array([      nan, 20917.867, 21111.6  , 21397.938, 21717.171, 21933.217,\n",
       "       21751.238, 19958.291, 21704.437, 22087.16 , 22680.693, 23425.91 ,\n",
       "       23982.379, 24813.6  , 25250.347, 25861.292, 26336.304, 26770.514,\n",
       "       27216.445, 27530.055, 28074.846, 28424.722, 28708.161, 29147.044,\n",
       "       29511.664, 29825.182, 30042.113, 30485.729])"
      ]
     },
     "execution_count": 53,
     "metadata": {},
     "output_type": "execute_result"
    }
   ],
   "source": [
    "regime_series.unique()"
   ]
  },
  {
   "cell_type": "code",
   "execution_count": 54,
   "id": "ed589c61-c9f2-4bc0-88f6-9dd99c36b238",
   "metadata": {},
   "outputs": [
    {
     "ename": "NameError",
     "evalue": "name 'some_date_index' is not defined",
     "output_type": "error",
     "traceback": [
      "\u001b[0;31m---------------------------------------------------------------------------\u001b[0m",
      "\u001b[0;31mNameError\u001b[0m                                 Traceback (most recent call last)",
      "Cell \u001b[0;32mIn[54], line 1\u001b[0m\n\u001b[0;32m----> 1\u001b[0m portfolio_series \u001b[38;5;241m=\u001b[39m pd\u001b[38;5;241m.\u001b[39mSeries(portfolio_values, index\u001b[38;5;241m=\u001b[39m\u001b[43msome_date_index\u001b[49m)\n",
      "\u001b[0;31mNameError\u001b[0m: name 'some_date_index' is not defined"
     ]
    }
   ],
   "source": [
    "portfolio_series = pd.Series(portfolio_values, index=some_date_index)"
   ]
  },
  {
   "cell_type": "code",
   "execution_count": 55,
   "id": "d6a01c5f-7dd3-4813-8309-05762230ddd7",
   "metadata": {},
   "outputs": [
    {
     "data": {
      "text/plain": [
       "3710"
      ]
     },
     "execution_count": 55,
     "metadata": {},
     "output_type": "execute_result"
    }
   ],
   "source": [
    "len(portfolio_values)"
   ]
  },
  {
   "cell_type": "code",
   "execution_count": 56,
   "id": "94acfe38-474e-4c48-9a15-73259b6f4dcf",
   "metadata": {},
   "outputs": [
    {
     "ename": "NameError",
     "evalue": "name 'portfolio_series' is not defined",
     "output_type": "error",
     "traceback": [
      "\u001b[0;31m---------------------------------------------------------------------------\u001b[0m",
      "\u001b[0;31mNameError\u001b[0m                                 Traceback (most recent call last)",
      "Cell \u001b[0;32mIn[56], line 1\u001b[0m\n\u001b[0;32m----> 1\u001b[0m \u001b[43mportfolio_series\u001b[49m\u001b[38;5;241m.\u001b[39mplot(title\u001b[38;5;241m=\u001b[39m\u001b[38;5;124m\"\u001b[39m\u001b[38;5;124mSimulated Portfolio Value Over Time\u001b[39m\u001b[38;5;124m\"\u001b[39m, figsize\u001b[38;5;241m=\u001b[39m(\u001b[38;5;241m12\u001b[39m, \u001b[38;5;241m6\u001b[39m))\n",
      "\u001b[0;31mNameError\u001b[0m: name 'portfolio_series' is not defined"
     ]
    }
   ],
   "source": [
    "portfolio_series.plot(title=\"Simulated Portfolio Value Over Time\", figsize=(12, 6))"
   ]
  },
  {
   "cell_type": "code",
   "execution_count": 57,
   "id": "b2c5181f-9237-4025-b273-bc4e717fe32d",
   "metadata": {},
   "outputs": [],
   "source": [
    "date_index = pd.date_range(start=\"2011-01-01\", periods=3710, freq=\"D\")"
   ]
  },
  {
   "cell_type": "code",
   "execution_count": 58,
   "id": "00cf693f-0cc1-4606-b4a3-045b868dbc42",
   "metadata": {},
   "outputs": [],
   "source": [
    "portfolio_series = pd.Series(portfolio_values, index=date_index)"
   ]
  },
  {
   "cell_type": "code",
   "execution_count": 59,
   "id": "457b7fd1-a233-45d7-8967-6808de8f934a",
   "metadata": {},
   "outputs": [
    {
     "data": {
      "text/plain": [
       "<Axes: title={'center': 'Simulated Portfolio Value Over Time'}>"
      ]
     },
     "execution_count": 59,
     "metadata": {},
     "output_type": "execute_result"
    },
    {
     "data": {
      "image/png": "[encoded data removed]",
      "text/plain": [
       "<Figure size 1200x600 with 1 Axes>"
      ]
     },
     "metadata": {},
     "output_type": "display_data"
    }
   ],
   "source": [
    "portfolio_series.plot(title=\"Simulated Portfolio Value Over Time\", figsize=(12, 6))"
   ]
  },
  {
   "cell_type": "code",
   "execution_count": 60,
   "id": "8fa846a1-941b-477a-9be0-dadb50ebe2ff",
   "metadata": {},
   "outputs": [
    {
     "data": {
      "text/plain": [
       "array([      nan, 20917.867, 21111.6  , 21397.938, 21717.171, 21933.217,\n",
       "       21751.238, 19958.291, 21704.437, 22087.16 , 22680.693, 23425.91 ,\n",
       "       23982.379, 24813.6  , 25250.347, 25861.292, 26336.304, 26770.514,\n",
       "       27216.445, 27530.055, 28074.846, 28424.722, 28708.161, 29147.044,\n",
       "       29511.664, 29825.182, 30042.113, 30485.729])"
      ]
     },
     "execution_count": 60,
     "metadata": {},
     "output_type": "execute_result"
    }
   ],
   "source": [
    "regime_series.unique()"
   ]
  },
  {
   "cell_type": "code",
   "execution_count": 62,
   "id": "503d4b17-0700-4235-9470-eb8e9a247606",
   "metadata": {},
   "outputs": [],
   "source": [
    "date_index = pd.date_range(start=\"2011-01-01\", periods=28, freq=\"ME\")"
   ]
  },
  {
   "cell_type": "code",
   "execution_count": 63,
   "id": "61cc4a63-70b5-49ce-8121-07ff15fee415",
   "metadata": {},
   "outputs": [
    {
     "data": {
      "text/plain": [
       "<Axes: title={'center': 'Simulated Portfolio Value Over Time'}>"
      ]
     },
     "execution_count": 63,
     "metadata": {},
     "output_type": "execute_result"
    },
    {
     "data": {
      "image/png": "[encoded data removed]",
      "text/plain": [
       "<Figure size 1200x600 with 1 Axes>"
      ]
     },
     "metadata": {},
     "output_type": "display_data"
    }
   ],
   "source": [
    "portfolio_series = pd.Series(portfolio_values, index=date_index)\n",
    "\n",
    "portfolio_series.plot(title=\"Simulated Portfolio Value Over Time\", figsize=(12, 6))"
   ]
  },
  {
   "cell_type": "code",
   "execution_count": 64,
   "id": "60227093-9230-4ee4-915e-baa06802ee34",
   "metadata": {},
   "outputs": [],
   "source": [
    "mean_matrix = pd.DataFrame({\n",
    "    \"SP500\": [0.000372, 0.000491],\n",
    "    \"VIX\":   [0.027570, 0.003028],\n",
    "    \"10Y\":   [-0.001404, 0.000012]\n",
    "}, index=[\"Expansion\", \"Recession\"])\n",
    "\n",
    "portfolio_weights = {\n",
    "    \"Expansion\": {\"SP500\": 0.6, \"VIX\": 0.2, \"10Y\": 0.2},\n",
    "    \"Recession\": {\"SP500\": 0.3, \"VIX\": 0.4, \"10Y\": 0.3}\n",
    "}\n",
    "\n",
    "expected_returns = {\n",
    "    regime: sum(mean_matrix.loc[regime][ticker] * weight\n",
    "                for ticker, weight in weights.items())\n",
    "    for regime, weights in portfolio_weights.items()\n",
    "}"
   ]
  },
  {
   "cell_type": "code",
   "execution_count": 65,
   "id": "7670f075-f600-455f-b0ed-9bff41b6386b",
   "metadata": {},
   "outputs": [],
   "source": [
    "regime_series = regime_series.astype(str).str.strip().str.capitalize()"
   ]
  },
  {
   "cell_type": "code",
   "execution_count": 66,
   "id": "331f4b3b-2ab9-4b30-a402-2ac8d3c2876c",
   "metadata": {},
   "outputs": [],
   "source": [
    "daily_expected_returns = regime_series.map(expected_returns)"
   ]
  },
  {
   "cell_type": "code",
   "execution_count": 67,
   "id": "77fc8f2e-1703-44c6-a14c-ba4d76f1a4cd",
   "metadata": {},
   "outputs": [
    {
     "data": {
      "text/plain": [
       "Series([], Name: count, dtype: int64)"
      ]
     },
     "execution_count": 67,
     "metadata": {},
     "output_type": "execute_result"
    }
   ],
   "source": [
    "daily_expected_returns.describe()\n",
    "daily_expected_returns.value_counts()"
   ]
  },
  {
   "cell_type": "code",
   "execution_count": 68,
   "id": "e50d712e-33fb-45d0-ab53-f1fb3e391739",
   "metadata": {},
   "outputs": [
    {
     "data": {
      "text/plain": [
       "array(['Nan', '20917.867', '21111.6', '21397.938', '21717.171',\n",
       "       '21933.217', '21751.238', '19958.291', '21704.437', '22087.16',\n",
       "       '22680.693', '23425.91', '23982.379', '24813.6', '25250.347',\n",
       "       '25861.292', '26336.304', '26770.514', '27216.445', '27530.055',\n",
       "       '28074.846', '28424.722', '28708.161', '29147.044', '29511.664',\n",
       "       '29825.182', '30042.113', '30485.729'], dtype=object)"
      ]
     },
     "execution_count": 68,
     "metadata": {},
     "output_type": "execute_result"
    }
   ],
   "source": [
    "regime_series.unique()"
   ]
  },
  {
   "cell_type": "code",
   "execution_count": 69,
   "id": "704bf52a-61cd-4a18-acac-e144b2e0b62b",
   "metadata": {},
   "outputs": [],
   "source": [
    "regime_series = regime_series.astype(str).str.strip().str.capitalize()"
   ]
  },
  {
   "cell_type": "code",
   "execution_count": 70,
   "id": "c37478db-5974-469a-96e5-a3b08c785b5b",
   "metadata": {},
   "outputs": [
    {
     "data": {
      "text/plain": [
       "dict_keys(['Expansion', 'Recession'])"
      ]
     },
     "execution_count": 70,
     "metadata": {},
     "output_type": "execute_result"
    }
   ],
   "source": [
    "expected_returns.keys()"
   ]
  },
  {
   "cell_type": "code",
   "execution_count": 71,
   "id": "1f68cd14-5bf7-4e7b-b0be-6a7258e85808",
   "metadata": {},
   "outputs": [
    {
     "ename": "NameError",
     "evalue": "name 'dict_keys' is not defined",
     "output_type": "error",
     "traceback": [
      "\u001b[0;31m---------------------------------------------------------------------------\u001b[0m",
      "\u001b[0;31mNameError\u001b[0m                                 Traceback (most recent call last)",
      "Cell \u001b[0;32mIn[71], line 1\u001b[0m\n\u001b[0;32m----> 1\u001b[0m \u001b[43mdict_keys\u001b[49m([\u001b[38;5;124m'\u001b[39m\u001b[38;5;124mExpansion\u001b[39m\u001b[38;5;124m'\u001b[39m, \u001b[38;5;124m'\u001b[39m\u001b[38;5;124mRecession\u001b[39m\u001b[38;5;124m'\u001b[39m])\n",
      "\u001b[0;31mNameError\u001b[0m: name 'dict_keys' is not defined"
     ]
    }
   ],
   "source": [
    "dict_keys(['Expansion', 'Recession'])"
   ]
  },
  {
   "cell_type": "code",
   "execution_count": 72,
   "id": "1277cd6e-4e42-48a0-932d-a7013c8b6b97",
   "metadata": {},
   "outputs": [
    {
     "ename": "SyntaxError",
     "evalue": "invalid syntax (4229465784.py, line 1)",
     "output_type": "error",
     "traceback": [
      "\u001b[0;36m  Cell \u001b[0;32mIn[72], line 1\u001b[0;36m\u001b[0m\n\u001b[0;31m    ---------------------------------------------------------------------------\u001b[0m\n\u001b[0m                                                                               ^\u001b[0m\n\u001b[0;31mSyntaxError\u001b[0m\u001b[0;31m:\u001b[0m invalid syntax\n"
     ]
    }
   ],
   "source": [
    "---------------------------------------------------------------------------\n",
    "NameError                                 Traceback (most recent call last)\n",
    "Cell In[71], line 1\n",
    "----> 1 dict_keys(['Expansion', 'Recession'])\n",
    "\n",
    "NameError: name 'dict_keys' is not defined"
   ]
  },
  {
   "cell_type": "code",
   "execution_count": 73,
   "id": "9386230e-ff88-401b-bc64-0a04f53a151a",
   "metadata": {},
   "outputs": [
    {
     "data": {
      "text/plain": [
       "dict_keys(['Expansion', 'Recession'])"
      ]
     },
     "execution_count": 73,
     "metadata": {},
     "output_type": "execute_result"
    }
   ],
   "source": [
    "expected_returns.keys()"
   ]
  },
  {
   "cell_type": "code",
   "execution_count": 74,
   "id": "bb371537-9b8f-4e9c-8809-2c9c61d801a2",
   "metadata": {},
   "outputs": [
    {
     "data": {
      "text/plain": [
       "['Expansion', 'Recession']"
      ]
     },
     "execution_count": 74,
     "metadata": {},
     "output_type": "execute_result"
    }
   ],
   "source": [
    "list(expected_returns.keys())"
   ]
  },
  {
   "cell_type": "code",
   "execution_count": 75,
   "id": "fdd6387a-18b7-4c0b-a0e6-c7b30874ae25",
   "metadata": {},
   "outputs": [
    {
     "name": "stdout",
     "output_type": "stream",
     "text": [
      "Expansion 0.0054564\n",
      "Recession 0.0013621\n"
     ]
    }
   ],
   "source": [
    "for key in expected_returns:\n",
    "    print(key, expected_returns[key])"
   ]
  },
  {
   "cell_type": "code",
   "execution_count": 76,
   "id": "f5a44879-0187-4a8b-81cf-86bbf91d497f",
   "metadata": {},
   "outputs": [],
   "source": [
    "regime_series = regime_series.astype(str).str.strip().str.capitalize()"
   ]
  },
  {
   "cell_type": "code",
   "execution_count": 77,
   "id": "6298729e-d4b0-4efc-a0a3-e9bf4e50cd75",
   "metadata": {},
   "outputs": [],
   "source": [
    "daily_expected_returns = regime_series.map(expected_returns)"
   ]
  },
  {
   "cell_type": "code",
   "execution_count": 78,
   "id": "9a76c4be-832e-4c40-a4dd-d65f2655d9fa",
   "metadata": {},
   "outputs": [
    {
     "data": {
      "text/plain": [
       "np.int64(3710)"
      ]
     },
     "execution_count": 78,
     "metadata": {},
     "output_type": "execute_result"
    }
   ],
   "source": [
    "daily_expected_returns.describe()\n",
    "daily_expected_returns.value_counts()\n",
    "daily_expected_returns.isna().sum()"
   ]
  },
  {
   "cell_type": "code",
   "execution_count": 79,
   "id": "431771cb-4ec3-45c1-85c4-ff1d6f1e3431",
   "metadata": {},
   "outputs": [
    {
     "data": {
      "text/plain": [
       "DatetimeIndex(['2011-01-01', '2011-01-02', '2011-01-03', '2011-01-04',\n",
       "               '2011-01-05', '2011-01-06', '2011-01-07', '2011-01-08',\n",
       "               '2011-01-09', '2011-01-10',\n",
       "               ...\n",
       "               '2021-02-17', '2021-02-18', '2021-02-19', '2021-02-20',\n",
       "               '2021-02-21', '2021-02-22', '2021-02-23', '2021-02-24',\n",
       "               '2021-02-25', '2021-02-26'],\n",
       "              dtype='datetime64[ns]', length=3710, freq='D')"
      ]
     },
     "execution_count": 79,
     "metadata": {},
     "output_type": "execute_result"
    }
   ],
   "source": [
    "pd.date_range(start=\"2011-01-01\", periods=int(np.int64(3710)), freq=\"D\")"
   ]
  },
  {
   "cell_type": "code",
   "execution_count": 80,
   "id": "19c69dee-f203-4f82-ae7e-999044f6a740",
   "metadata": {},
   "outputs": [],
   "source": [
    "portfolio_series = pd.Series(portfolio_values, index=date_index)"
   ]
  },
  {
   "cell_type": "code",
   "execution_count": 81,
   "id": "9974fec2-9073-484b-a0c4-95f3c6fa4f58",
   "metadata": {},
   "outputs": [
    {
     "data": {
      "text/plain": [
       "<Axes: title={'center': 'Simulated Portfolio Value Over Time'}>"
      ]
     },
     "execution_count": 81,
     "metadata": {},
     "output_type": "execute_result"
    },
    {
     "data": {
      "image/png": "[encoded data removed]",
      "text/plain": [
       "<Figure size 1200x600 with 1 Axes>"
      ]
     },
     "metadata": {},
     "output_type": "display_data"
    }
   ],
   "source": [
    "portfolio_series.plot(title=\"Simulated Portfolio Value Over Time\", figsize=(12, 6))"
   ]
  },
  {
   "cell_type": "code",
   "execution_count": 82,
   "id": "c0c4dbc5-c513-4db7-943f-2b732cb82d91",
   "metadata": {},
   "outputs": [
    {
     "data": {
      "text/plain": [
       "<Axes: title={'center': 'Simulated Portfolio Value Over Time'}>"
      ]
     },
     "execution_count": 82,
     "metadata": {},
     "output_type": "execute_result"
    },
    {
     "data": {
      "image/png": "[encoded data removed]",
      "text/plain": [
       "<Figure size 1200x600 with 1 Axes>"
      ]
     },
     "metadata": {},
     "output_type": "display_data"
    }
   ],
   "source": [
    "portfolio_series.plot(title=\"Simulated Portfolio Value Over Time\", figsize=(12, 6))"
   ]
  },
  {
   "cell_type": "code",
   "execution_count": 83,
   "id": "f1a7e4f4-b1ac-4dd6-bfe5-b01f434ef836",
   "metadata": {},
   "outputs": [
    {
     "data": {
      "text/plain": [
       "GDP\n",
       "Nan          2076\n",
       "22087.16       64\n",
       "21933.217      64\n",
       "21717.171      64\n",
       "21704.437      64\n",
       "26336.304      64\n",
       "24813.6        64\n",
       "29511.664      64\n",
       "29825.182      64\n",
       "23982.379      64\n",
       "20917.867      63\n",
       "23425.91       63\n",
       "29147.044      63\n",
       "28074.846      63\n",
       "28424.722      63\n",
       "19958.291      63\n",
       "21397.938      63\n",
       "26770.514      63\n",
       "21751.238      62\n",
       "27216.445      62\n",
       "27530.055      62\n",
       "25861.292      62\n",
       "25250.347      62\n",
       "21111.6        61\n",
       "22680.693      61\n",
       "28708.161      61\n",
       "30042.113      60\n",
       "30485.729       1\n",
       "Name: count, dtype: int64"
      ]
     },
     "execution_count": 83,
     "metadata": {},
     "output_type": "execute_result"
    }
   ],
   "source": [
    "regime_series.astype(str).str.strip().str.capitalize().value_counts()"
   ]
  },
  {
   "cell_type": "code",
   "execution_count": 84,
   "id": "5cc004bb-dede-4f16-8336-a5a8ed66f9ba",
   "metadata": {},
   "outputs": [],
   "source": [
    "regime_series = regime_series.astype(str).str.strip().str.capitalize()"
   ]
  },
  {
   "cell_type": "code",
   "execution_count": 85,
   "id": "dcb5b4ac-8103-466f-86fa-5b0b90263808",
   "metadata": {},
   "outputs": [],
   "source": [
    "regime_series = regime_series.astype(str).str.strip().str.capitalize()"
   ]
  },
  {
   "cell_type": "code",
   "execution_count": 86,
   "id": "eee5df7c-0977-4c29-be9a-6ab9de13e1d2",
   "metadata": {},
   "outputs": [],
   "source": [
    "expected_returns = {\n",
    "    \"Expansion\": 0.0054564,\n",
    "    \"Recession\": 0.0013621\n",
    "}"
   ]
  },
  {
   "cell_type": "code",
   "execution_count": 87,
   "id": "59bf4c44-9c13-49c9-956c-b6bab5be7c36",
   "metadata": {},
   "outputs": [],
   "source": [
    "daily_expected_returns = regime_series.map(expected_returns)"
   ]
  },
  {
   "cell_type": "code",
   "execution_count": 88,
   "id": "6bf19835-91af-4ef5-b1da-21bab3d9941e",
   "metadata": {},
   "outputs": [
    {
     "data": {
      "text/plain": [
       "np.int64(3710)"
      ]
     },
     "execution_count": 88,
     "metadata": {},
     "output_type": "execute_result"
    }
   ],
   "source": [
    "daily_expected_returns.describe()\n",
    "daily_expected_returns.value_counts()\n",
    "daily_expected_returns.isna().sum()"
   ]
  },
  {
   "cell_type": "code",
   "execution_count": 89,
   "id": "2adc2825-4983-46e6-bb31-0462842946a1",
   "metadata": {},
   "outputs": [],
   "source": [
    "portfolio_values = 20000 * (1 + daily_expected_returns.fillna(0)).cumprod()\n",
    "date_index = pd.date_range(start=\"2011-01-01\", periods=len(portfolio_values), freq=\"D\")\n",
    "portfolio_series = pd.Series(portfolio_values, index=date_index)"
   ]
  },
  {
   "cell_type": "code",
   "execution_count": 90,
   "id": "85d08757-65a7-4bc6-99f8-863355cb175c",
   "metadata": {},
   "outputs": [
    {
     "data": {
      "text/plain": [
       "<Axes: title={'center': 'Simulated Portfolio Value Over Time'}>"
      ]
     },
     "execution_count": 90,
     "metadata": {},
     "output_type": "execute_result"
    },
    {
     "data": {
      "image/png": "[encoded data removed]",
      "text/plain": [
       "<Figure size 1200x600 with 1 Axes>"
      ]
     },
     "metadata": {},
     "output_type": "display_data"
    }
   ],
   "source": [
    "portfolio_series.plot(title=\"Simulated Portfolio Value Over Time\", figsize=(12, 6))"
   ]
  },
  {
   "cell_type": "code",
   "execution_count": null,
   "id": "d55e009c-999e-4875-a192-4ec3911846b1",
   "metadata": {},
   "outputs": [],
   "source": [
    "import pandas as pd\n"
   ]
  },
  {
   "cell_type": "code",
   "execution_count": null,
   "id": "02b73517",
   "metadata": {},
   "outputs": [],
   "source": [
    "df = pd.read_csv(\"output/etf_regime_summary.csv\", header=None)\n",
    "print(df.head(10))"
   ]
  },
  {
   "cell_type": "code",
   "execution_count": null,
   "id": "33fba6bc",
   "metadata": {},
   "outputs": [],
   "source": [
    "df = pd.read_csv(\"data/daily_returns_labeled.csv\")\n",
    "print(df[\"Regime\"].value_counts())\n",
    "print(df.head())"
   ]
  },
  {
   "cell_type": "code",
   "execution_count": null,
   "id": "1a6a32ee",
   "metadata": {},
   "outputs": [],
   "source": []
  },
  {
   "cell_type": "code",
   "execution_count": null,
   "id": "64a64a00",
   "metadata": {},
   "outputs": [],
   "source": []
  },
  {
   "cell_type": "code",
   "execution_count": null,
   "id": "43256dac",
   "metadata": {},
   "outputs": [],
   "source": []
  },
  {
   "cell_type": "code",
   "execution_count": null,
   "id": "5be30a85-df1b-4654-9992-49b20d553fbc",
   "metadata": {},
   "outputs": [],
   "source": []
  },
  {
   "cell_type": "code",
   "execution_count": null,
   "id": "e9f0cda4-91ea-46e1-ba0d-25ef4dd9d467",
   "metadata": {},
   "outputs": [],
   "source": []
  },
  {
   "cell_type": "code",
   "execution_count": null,
   "id": "becd1be7-d868-4f5e-a07d-9fe1d4ede6e8",
   "metadata": {},
   "outputs": [],
   "source": []
  }
 ],
 "metadata": {
  "kernelspec": {
   "display_name": "Python (RetirementEngine)",
   "language": "python",
   "name": "retirementenv"
  },
  "language_info": {
   "codemirror_mode": {
    "name": "ipython",
    "version": 3
   },
   "file_extension": ".py",
   "mimetype": "text/x-python",
   "name": "python",
   "nbconvert_exporter": "python",
   "pygments_lexer": "ipython3",
   "version": "3.10.12"
  }
 },
 "nbformat": 4,
 "nbformat_minor": 5
}
